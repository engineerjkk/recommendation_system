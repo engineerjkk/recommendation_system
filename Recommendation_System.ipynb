{
  "cells": [
    {
      "cell_type": "code",
      "execution_count": 1,
      "metadata": {
        "colab": {
          "base_uri": "https://localhost:8080/"
        },
        "id": "NvcMQzFckjXd",
        "outputId": "b4424a9f-ffb3-4cfb-fd5b-9fbad8c29b4f"
      },
      "outputs": [
        {
          "name": "stdout",
          "output_type": "stream",
          "text": [
            "  % Total    % Received % Xferd  Average Speed   Time    Time     Time  Current\n",
            "                                 Dload  Upload   Total   Spent    Left  Speed\n",
            "100  955k  100  955k    0     0   743k      0  0:00:01  0:00:01 --:--:--  743k\n"
          ]
        }
      ],
      "source": [
        "# Data Citation:\n",
        "# F. Maxwell Harper and Joseph A. Konstan. 2015. The MovieLens Datasets: History and Context. ACM Transactions on \n",
        "# Interactive Intelligent Systems (TiiS) 5, 4: 19:1–19:19. <https://doi.org/10.1145/2827872>\n",
        "\n",
        "! curl http://files.grouplens.org/datasets/movielens/ml-latest-small.zip -o ml-latest-small.zip"
      ]
    },
    {
      "cell_type": "code",
      "execution_count": 2,
      "metadata": {
        "id": "68BdqtQikvVE"
      },
      "outputs": [],
      "source": [
        "import zipfile\n",
        "with zipfile.ZipFile('ml-latest-small.zip', 'r') as zip_ref:\n",
        "    zip_ref.extractall('data')"
      ]
    },
    {
      "cell_type": "code",
      "execution_count": 3,
      "metadata": {
        "id": "OmO7jmrpkvZf"
      },
      "outputs": [],
      "source": [
        "# import the dataset\n",
        "import pandas as pd\n",
        "movies_df = pd.read_csv('data/ml-latest-small/movies.csv')\n",
        "ratings_df = pd.read_csv('data/ml-latest-small/ratings.csv')"
      ]
    },
    {
      "cell_type": "code",
      "execution_count": 4,
      "metadata": {
        "colab": {
          "base_uri": "https://localhost:8080/"
        },
        "id": "Q-KRTGaskvdn",
        "outputId": "ec89b4c8-ee99-407c-ce07-8d9ddcf0f0b1"
      },
      "outputs": [
        {
          "name": "stdout",
          "output_type": "stream",
          "text": [
            "The dimensions of movies dataframe are: (9742, 3) \n",
            "The dimensions of ratings dataframe are: (100836, 4)\n"
          ]
        }
      ],
      "source": [
        "print('The dimensions of movies dataframe are:', movies_df.shape,'\\nThe dimensions of ratings dataframe are:', ratings_df.shape)"
      ]
    },
    {
      "cell_type": "code",
      "execution_count": 5,
      "metadata": {
        "colab": {
          "base_uri": "https://localhost:8080/",
          "height": 195
        },
        "id": "ALPeuAiBk0mM",
        "outputId": "8afc063a-7b73-4cdf-b624-cf36ecfa231a"
      },
      "outputs": [
        {
          "data": {
            "text/html": [
              "<div>\n",
              "<style scoped>\n",
              "    .dataframe tbody tr th:only-of-type {\n",
              "        vertical-align: middle;\n",
              "    }\n",
              "\n",
              "    .dataframe tbody tr th {\n",
              "        vertical-align: top;\n",
              "    }\n",
              "\n",
              "    .dataframe thead th {\n",
              "        text-align: right;\n",
              "    }\n",
              "</style>\n",
              "<table border=\"1\" class=\"dataframe\">\n",
              "  <thead>\n",
              "    <tr style=\"text-align: right;\">\n",
              "      <th></th>\n",
              "      <th>movieId</th>\n",
              "      <th>title</th>\n",
              "      <th>genres</th>\n",
              "    </tr>\n",
              "  </thead>\n",
              "  <tbody>\n",
              "    <tr>\n",
              "      <th>0</th>\n",
              "      <td>1</td>\n",
              "      <td>Toy Story (1995)</td>\n",
              "      <td>Adventure|Animation|Children|Comedy|Fantasy</td>\n",
              "    </tr>\n",
              "    <tr>\n",
              "      <th>1</th>\n",
              "      <td>2</td>\n",
              "      <td>Jumanji (1995)</td>\n",
              "      <td>Adventure|Children|Fantasy</td>\n",
              "    </tr>\n",
              "    <tr>\n",
              "      <th>2</th>\n",
              "      <td>3</td>\n",
              "      <td>Grumpier Old Men (1995)</td>\n",
              "      <td>Comedy|Romance</td>\n",
              "    </tr>\n",
              "    <tr>\n",
              "      <th>3</th>\n",
              "      <td>4</td>\n",
              "      <td>Waiting to Exhale (1995)</td>\n",
              "      <td>Comedy|Drama|Romance</td>\n",
              "    </tr>\n",
              "    <tr>\n",
              "      <th>4</th>\n",
              "      <td>5</td>\n",
              "      <td>Father of the Bride Part II (1995)</td>\n",
              "      <td>Comedy</td>\n",
              "    </tr>\n",
              "  </tbody>\n",
              "</table>\n",
              "</div>"
            ],
            "text/plain": [
              "   movieId                               title  \\\n",
              "0        1                    Toy Story (1995)   \n",
              "1        2                      Jumanji (1995)   \n",
              "2        3             Grumpier Old Men (1995)   \n",
              "3        4            Waiting to Exhale (1995)   \n",
              "4        5  Father of the Bride Part II (1995)   \n",
              "\n",
              "                                        genres  \n",
              "0  Adventure|Animation|Children|Comedy|Fantasy  \n",
              "1                   Adventure|Children|Fantasy  \n",
              "2                               Comedy|Romance  \n",
              "3                         Comedy|Drama|Romance  \n",
              "4                                       Comedy  "
            ]
          },
          "execution_count": 5,
          "metadata": {},
          "output_type": "execute_result"
        }
      ],
      "source": [
        "# Take a look at movies_df\n",
        "movies_df.head()"
      ]
    },
    {
      "cell_type": "code",
      "execution_count": 6,
      "metadata": {
        "colab": {
          "base_uri": "https://localhost:8080/",
          "height": 195
        },
        "id": "KzPoqkWbk0oh",
        "outputId": "762a17ed-9513-48f8-f1ef-0c1b63347624"
      },
      "outputs": [
        {
          "data": {
            "text/html": [
              "<div>\n",
              "<style scoped>\n",
              "    .dataframe tbody tr th:only-of-type {\n",
              "        vertical-align: middle;\n",
              "    }\n",
              "\n",
              "    .dataframe tbody tr th {\n",
              "        vertical-align: top;\n",
              "    }\n",
              "\n",
              "    .dataframe thead th {\n",
              "        text-align: right;\n",
              "    }\n",
              "</style>\n",
              "<table border=\"1\" class=\"dataframe\">\n",
              "  <thead>\n",
              "    <tr style=\"text-align: right;\">\n",
              "      <th></th>\n",
              "      <th>userId</th>\n",
              "      <th>movieId</th>\n",
              "      <th>rating</th>\n",
              "      <th>timestamp</th>\n",
              "    </tr>\n",
              "  </thead>\n",
              "  <tbody>\n",
              "    <tr>\n",
              "      <th>0</th>\n",
              "      <td>1</td>\n",
              "      <td>1</td>\n",
              "      <td>4.0</td>\n",
              "      <td>964982703</td>\n",
              "    </tr>\n",
              "    <tr>\n",
              "      <th>1</th>\n",
              "      <td>1</td>\n",
              "      <td>3</td>\n",
              "      <td>4.0</td>\n",
              "      <td>964981247</td>\n",
              "    </tr>\n",
              "    <tr>\n",
              "      <th>2</th>\n",
              "      <td>1</td>\n",
              "      <td>6</td>\n",
              "      <td>4.0</td>\n",
              "      <td>964982224</td>\n",
              "    </tr>\n",
              "    <tr>\n",
              "      <th>3</th>\n",
              "      <td>1</td>\n",
              "      <td>47</td>\n",
              "      <td>5.0</td>\n",
              "      <td>964983815</td>\n",
              "    </tr>\n",
              "    <tr>\n",
              "      <th>4</th>\n",
              "      <td>1</td>\n",
              "      <td>50</td>\n",
              "      <td>5.0</td>\n",
              "      <td>964982931</td>\n",
              "    </tr>\n",
              "  </tbody>\n",
              "</table>\n",
              "</div>"
            ],
            "text/plain": [
              "   userId  movieId  rating  timestamp\n",
              "0       1        1     4.0  964982703\n",
              "1       1        3     4.0  964981247\n",
              "2       1        6     4.0  964982224\n",
              "3       1       47     5.0  964983815\n",
              "4       1       50     5.0  964982931"
            ]
          },
          "execution_count": 6,
          "metadata": {},
          "output_type": "execute_result"
        }
      ],
      "source": [
        "# Take a look at ratings_df\n",
        "ratings_df.head()"
      ]
    },
    {
      "cell_type": "code",
      "execution_count": 7,
      "metadata": {
        "colab": {
          "base_uri": "https://localhost:8080/"
        },
        "id": "2TUaWt96k0q7",
        "outputId": "afd13baa-d03e-40c9-9dcf-f8c4cbda08d0"
      },
      "outputs": [
        {
          "name": "stdout",
          "output_type": "stream",
          "text": [
            "Number of unique users: 610\n",
            "Number of unique movies: 9724\n",
            "The full rating matrix will have: 5931640 elements.\n",
            "----------\n",
            "Number of ratings: 100836\n",
            "Therefore:  1.6999683055613624 % of the matrix is filled.\n",
            "We have an incredibly sparse matrix to work with here.\n",
            "And... as you can imagine, as the number of users and products grow, the number of elements will increase by n*2\n",
            "You are going to need a lot of memory to work with global scale... storing a full matrix in memory would be a challenge.\n",
            "One advantage here is that matrix factorization can realize the rating matrix implicitly, thus we don't need all the data\n"
          ]
        }
      ],
      "source": [
        "# Movie ID to movie name mapping\n",
        "movie_names = movies_df.set_index('movieId')['title'].to_dict()\n",
        "n_users = len(ratings_df.userId.unique())\n",
        "n_items = len(ratings_df.movieId.unique())\n",
        "print(\"Number of unique users:\", n_users)\n",
        "print(\"Number of unique movies:\", n_items)\n",
        "print(\"The full rating matrix will have:\", n_users*n_items, 'elements.')\n",
        "print('----------')\n",
        "print(\"Number of ratings:\", len(ratings_df))\n",
        "print(\"Therefore: \", len(ratings_df) / (n_users*n_items) * 100, '% of the matrix is filled.')\n",
        "print(\"We have an incredibly sparse matrix to work with here.\")\n",
        "print(\"And... as you can imagine, as the number of users and products grow, the number of elements will increase by n*2\")\n",
        "print(\"You are going to need a lot of memory to work with global scale... storing a full matrix in memory would be a challenge.\")\n",
        "print(\"One advantage here is that matrix factorization can realize the rating matrix implicitly, thus we don't need all the data\")"
      ]
    },
    {
      "cell_type": "code",
      "execution_count": 8,
      "metadata": {
        "id": "YnkTvMsCk0tY"
      },
      "outputs": [],
      "source": [
        "import torch\n",
        "import numpy as np\n",
        "from torch.autograd import Variable\n",
        "from tqdm import tqdm_notebook as tqdm\n",
        "\n",
        "class MatrixFactorization(torch.nn.Module):\n",
        "    def __init__(self, n_users, n_items, n_factors=20):\n",
        "        super().__init__()\n",
        "        # create user embeddings\n",
        "        self.user_factors = torch.nn.Embedding(n_users, n_factors) # think of this as a lookup table for the input.\n",
        "        # create item embeddings\n",
        "        self.item_factors = torch.nn.Embedding(n_items, n_factors) # think of this as a lookup table for the input.\n",
        "        self.user_factors.weight.data.uniform_(0, 0.05)\n",
        "        self.item_factors.weight.data.uniform_(0, 0.05)\n",
        "        \n",
        "    def forward(self, data):\n",
        "        # matrix multiplication\n",
        "        users, items = data[:,0], data[:,1]\n",
        "        return (self.user_factors(users)*self.item_factors(items)).sum(1)\n",
        "    # def forward(self, user, item):\n",
        "    # \t# matrix multiplication\n",
        "    #     return (self.user_factors(user)*self.item_factors(item)).sum(1)\n",
        "    \n",
        "    def predict(self, user, item):\n",
        "        return self.forward(user, item)"
      ]
    },
    {
      "cell_type": "code",
      "execution_count": 9,
      "metadata": {
        "id": "LTlGvz7sk0v2"
      },
      "outputs": [],
      "source": [
        "# Creating the dataloader (necessary for PyTorch)\n",
        "from torch.utils.data.dataset import Dataset\n",
        "from torch.utils.data import DataLoader # package that helps transform your data to machine learning readiness\n",
        "\n",
        "# Note: This isn't 'good' practice, in a MLops sense but we'll roll with this since the data is already loaded in memory.\n",
        "class Loader(Dataset):\n",
        "    def __init__(self):\n",
        "        self.ratings = ratings_df.copy()\n",
        "        \n",
        "        # Extract all user IDs and movie IDs\n",
        "        users = ratings_df.userId.unique()\n",
        "        movies = ratings_df.movieId.unique()\n",
        "        \n",
        "        #--- Producing new continuous IDs for users and movies ---\n",
        "        \n",
        "        # Unique values : index\n",
        "        self.userid2idx = {o:i for i,o in enumerate(users)}\n",
        "        self.movieid2idx = {o:i for i,o in enumerate(movies)}\n",
        "        \n",
        "        # Obtained continuous ID for users and movies\n",
        "        self.idx2userid = {i:o for o,i in self.userid2idx.items()}\n",
        "        self.idx2movieid = {i:o for o,i in self.movieid2idx.items()}\n",
        "        \n",
        "        # return the id from the indexed values as noted in the lambda function down below.\n",
        "        self.ratings.movieId = ratings_df.movieId.apply(lambda x: self.movieid2idx[x])\n",
        "        self.ratings.userId = ratings_df.userId.apply(lambda x: self.userid2idx[x])\n",
        "        \n",
        "        \n",
        "        self.x = self.ratings.drop(['rating', 'timestamp'], axis=1).values\n",
        "        self.y = self.ratings['rating'].values\n",
        "        self.x, self.y = torch.tensor(self.x), torch.tensor(self.y) # Transforms the data to tensors (ready for torch models.)\n",
        "\n",
        "    def __getitem__(self, index):\n",
        "        return (self.x[index], self.y[index])\n",
        "\n",
        "    def __len__(self):\n",
        "        return len(self.ratings)"
      ]
    },
    {
      "cell_type": "code",
      "execution_count": 10,
      "metadata": {
        "colab": {
          "base_uri": "https://localhost:8080/"
        },
        "id": "J6MK3Ymmk0yi",
        "outputId": "50e960e6-ccc7-4852-98cf-55144f7848c7"
      },
      "outputs": [
        {
          "name": "stdout",
          "output_type": "stream",
          "text": [
            "Is running on GPU: True\n",
            "MatrixFactorization(\n",
            "  (user_factors): Embedding(610, 8)\n",
            "  (item_factors): Embedding(9724, 8)\n",
            ")\n",
            "user_factors.weight tensor([[1.2835e-03, 1.0441e-02, 2.3956e-04,  ..., 2.1445e-02, 4.8704e-02,\n",
            "         1.3139e-02],\n",
            "        [2.0557e-02, 1.0153e-02, 4.3309e-02,  ..., 2.4939e-02, 2.0275e-02,\n",
            "         3.2060e-02],\n",
            "        [1.8538e-02, 8.5980e-06, 4.0185e-02,  ..., 2.2580e-02, 3.6572e-02,\n",
            "         3.1395e-02],\n",
            "        ...,\n",
            "        [4.6458e-02, 3.1853e-02, 2.2208e-02,  ..., 4.4432e-02, 2.5513e-02,\n",
            "         2.6589e-03],\n",
            "        [5.6583e-03, 2.9308e-02, 4.4330e-02,  ..., 2.4085e-02, 3.5451e-02,\n",
            "         5.0994e-03],\n",
            "        [3.7921e-02, 3.8065e-02, 1.1789e-02,  ..., 3.9095e-02, 2.7979e-02,\n",
            "         4.7558e-02]])\n",
            "item_factors.weight tensor([[0.0109, 0.0400, 0.0482,  ..., 0.0421, 0.0492, 0.0175],\n",
            "        [0.0102, 0.0496, 0.0010,  ..., 0.0132, 0.0429, 0.0258],\n",
            "        [0.0287, 0.0130, 0.0101,  ..., 0.0109, 0.0047, 0.0332],\n",
            "        ...,\n",
            "        [0.0411, 0.0221, 0.0466,  ..., 0.0080, 0.0091, 0.0079],\n",
            "        [0.0151, 0.0158, 0.0392,  ..., 0.0479, 0.0045, 0.0191],\n",
            "        [0.0021, 0.0482, 0.0393,  ..., 0.0125, 0.0064, 0.0121]])\n"
          ]
        }
      ],
      "source": [
        "num_epochs = 128\n",
        "cuda = torch.cuda.is_available()\n",
        "\n",
        "print(\"Is running on GPU:\", cuda)\n",
        "\n",
        "model = MatrixFactorization(n_users, n_items, n_factors=8)\n",
        "print(model)\n",
        "for name, param in model.named_parameters():\n",
        "    if param.requires_grad:\n",
        "        print(name, param.data)\n",
        "# GPU enable if you have a GPU...\n",
        "if cuda:\n",
        "    model = model.cuda()\n",
        "\n",
        "# MSE loss\n",
        "loss_fn = torch.nn.MSELoss()\n",
        "\n",
        "# ADAM optimizier\n",
        "optimizer = torch.optim.Adam(model.parameters(), lr=1e-3)\n",
        "\n",
        "# Train data\n",
        "train_set = Loader()\n",
        "train_loader = DataLoader(train_set, 128, shuffle=True)"
      ]
    },
    {
      "cell_type": "code",
      "execution_count": 11,
      "metadata": {
        "colab": {
          "base_uri": "https://localhost:8080/",
          "height": 1000,
          "referenced_widgets": [
            "3c1765cabeaf4d75a130311ddc4591a1",
            "6db170b52f5a4f72afd083a3a9c157aa",
            "69073fd458234bba829af9731b4fce1c",
            "88151edb53134487b95f6bcbcd7fd2b4",
            "9b185906b1dc465e93b9f058a1fec47a",
            "20b4738815cd467dba2946031d6d9027",
            "c279f9a0a0fe498b9db167a237517e6e",
            "005a499c40bd407ca20c2492d9c4f170"
          ]
        },
        "id": "8fIDIdStk000",
        "outputId": "84caf390-d372-4d82-a045-cbf12a9c8cce"
      },
      "outputs": [
        {
          "name": "stderr",
          "output_type": "stream",
          "text": [
            "/home/kangjunekoo/anaconda3/envs/pytorch/lib/python3.7/site-packages/ipykernel_launcher.py:1: TqdmDeprecationWarning: This function will be removed in tqdm==5.0.0\n",
            "Please use `tqdm.notebook.tqdm` instead of `tqdm.tqdm_notebook`\n",
            "  \"\"\"Entry point for launching an IPython kernel.\n"
          ]
        },
        {
          "data": {
            "application/vnd.jupyter.widget-view+json": {
              "model_id": "e4b13ae3fbe34db989031cde478a6897",
              "version_major": 2,
              "version_minor": 0
            },
            "text/plain": [
              "  0%|          | 0/128 [00:00<?, ?it/s]"
            ]
          },
          "metadata": {},
          "output_type": "display_data"
        },
        {
          "name": "stdout",
          "output_type": "stream",
          "text": [
            "iter #0 Loss: 11.0641437557143\n",
            "iter #1 Loss: 4.7460717386400635\n",
            "iter #2 Loss: 2.4750814465096758\n",
            "iter #3 Loss: 1.7207717258615542\n",
            "iter #4 Loss: 1.3451448724354584\n",
            "iter #5 Loss: 1.1282905065620006\n",
            "iter #6 Loss: 0.9914040203929553\n",
            "iter #7 Loss: 0.9004793683738272\n",
            "iter #8 Loss: 0.8371988979692991\n",
            "iter #9 Loss: 0.7924038547322835\n",
            "iter #10 Loss: 0.759204307485958\n",
            "iter #11 Loss: 0.7350524402587547\n",
            "iter #12 Loss: 0.7162840021443246\n",
            "iter #13 Loss: 0.701357619373629\n",
            "iter #14 Loss: 0.6902854187688247\n",
            "iter #15 Loss: 0.6817879514948366\n",
            "iter #16 Loss: 0.6751513560184368\n",
            "iter #17 Loss: 0.6698768137372689\n",
            "iter #18 Loss: 0.6656576312208539\n",
            "iter #19 Loss: 0.6626808265139004\n",
            "iter #20 Loss: 0.6607606564908464\n",
            "iter #21 Loss: 0.6589171630779499\n",
            "iter #22 Loss: 0.6579955389656996\n",
            "iter #23 Loss: 0.6567567793775331\n",
            "iter #24 Loss: 0.6558312401553701\n",
            "iter #25 Loss: 0.6550229878973235\n",
            "iter #26 Loss: 0.6538173174721941\n",
            "iter #27 Loss: 0.6530954168381424\n",
            "iter #28 Loss: 0.6521943405194937\n",
            "iter #29 Loss: 0.6506908507592182\n",
            "iter #30 Loss: 0.6494204174670472\n",
            "iter #31 Loss: 0.6473579927522519\n",
            "iter #32 Loss: 0.6452879825521847\n",
            "iter #33 Loss: 0.642744567982739\n",
            "iter #34 Loss: 0.6394120402596324\n",
            "iter #35 Loss: 0.6354264714542379\n",
            "iter #36 Loss: 0.6307664617215316\n",
            "iter #37 Loss: 0.6251729892822087\n",
            "iter #38 Loss: 0.6189822081079338\n",
            "iter #39 Loss: 0.611811700470859\n",
            "iter #40 Loss: 0.6039982092032578\n",
            "iter #41 Loss: 0.5954572536089093\n",
            "iter #42 Loss: 0.5866646475068809\n",
            "iter #43 Loss: 0.5773037698516991\n",
            "iter #44 Loss: 0.5680948288231937\n",
            "iter #45 Loss: 0.558479464296157\n",
            "iter #46 Loss: 0.549234746109108\n",
            "iter #47 Loss: 0.5398474811448664\n",
            "iter #48 Loss: 0.5309634686726604\n",
            "iter #49 Loss: 0.5219711674197676\n",
            "iter #50 Loss: 0.5135054856841335\n",
            "iter #51 Loss: 0.5053210526629148\n",
            "iter #52 Loss: 0.4971236084696605\n",
            "iter #53 Loss: 0.489715333366152\n",
            "iter #54 Loss: 0.48237679059130284\n",
            "iter #55 Loss: 0.475464444550766\n",
            "iter #56 Loss: 0.46886111213471077\n",
            "iter #57 Loss: 0.46293936450469314\n",
            "iter #58 Loss: 0.4569966699644394\n",
            "iter #59 Loss: 0.45150364201686105\n",
            "iter #60 Loss: 0.446416193534275\n",
            "iter #61 Loss: 0.44153130801422946\n",
            "iter #62 Loss: 0.436937956451462\n",
            "iter #63 Loss: 0.43268685052313177\n",
            "iter #64 Loss: 0.4283610268822176\n",
            "iter #65 Loss: 0.4241867550284729\n",
            "iter #66 Loss: 0.4205375573961868\n",
            "iter #67 Loss: 0.4171049880043504\n",
            "iter #68 Loss: 0.4135942018879247\n",
            "iter #69 Loss: 0.4103288826187553\n",
            "iter #70 Loss: 0.4072259341740064\n",
            "iter #71 Loss: 0.4042787053031365\n",
            "iter #72 Loss: 0.4015499799119942\n",
            "iter #73 Loss: 0.3986800458414603\n",
            "iter #74 Loss: 0.39606701092898544\n",
            "iter #75 Loss: 0.39363518466955516\n",
            "iter #76 Loss: 0.39135402823008864\n",
            "iter #77 Loss: 0.3889326694501838\n",
            "iter #78 Loss: 0.3866627014568312\n",
            "iter #79 Loss: 0.3845916787342069\n",
            "iter #80 Loss: 0.3825725943682157\n",
            "iter #81 Loss: 0.3806680115081635\n",
            "iter #82 Loss: 0.3787121653821565\n",
            "iter #83 Loss: 0.3766947537093296\n",
            "iter #84 Loss: 0.3751803577929584\n",
            "iter #85 Loss: 0.3734742763267858\n",
            "iter #86 Loss: 0.3718874754034323\n",
            "iter #87 Loss: 0.3700676701471285\n",
            "iter #88 Loss: 0.3686772670577928\n",
            "iter #89 Loss: 0.3671419196171204\n",
            "iter #90 Loss: 0.3659342638013629\n",
            "iter #91 Loss: 0.3645207214211752\n",
            "iter #92 Loss: 0.36309098151659\n",
            "iter #93 Loss: 0.3618712907061359\n",
            "iter #94 Loss: 0.36054534620137385\n",
            "iter #95 Loss: 0.35923269451572204\n",
            "iter #96 Loss: 0.35840218531223117\n",
            "iter #97 Loss: 0.3570181515048906\n",
            "iter #98 Loss: 0.3560964163146951\n",
            "iter #99 Loss: 0.3548629904912813\n",
            "iter #100 Loss: 0.35387075989303857\n",
            "iter #101 Loss: 0.3529064348582084\n",
            "iter #102 Loss: 0.3519042031981316\n",
            "iter #103 Loss: 0.3510025717166777\n",
            "iter #104 Loss: 0.35004320914672715\n",
            "iter #105 Loss: 0.3491335475089284\n",
            "iter #106 Loss: 0.3481973334579601\n",
            "iter #107 Loss: 0.3472633274829932\n",
            "iter #108 Loss: 0.3465839549142697\n",
            "iter #109 Loss: 0.34565816991749754\n",
            "iter #110 Loss: 0.344953071628579\n",
            "iter #111 Loss: 0.3440695041554228\n",
            "iter #112 Loss: 0.34340806169255733\n",
            "iter #113 Loss: 0.34265519334428807\n",
            "iter #114 Loss: 0.34187829087909105\n",
            "iter #115 Loss: 0.34105499601227984\n",
            "iter #116 Loss: 0.3404542291678753\n",
            "iter #117 Loss: 0.3399071630827969\n",
            "iter #118 Loss: 0.3392519923068848\n",
            "iter #119 Loss: 0.33850852570255396\n",
            "iter #120 Loss: 0.33787132413859294\n",
            "iter #121 Loss: 0.33728880732116967\n",
            "iter #122 Loss: 0.33668694925035925\n",
            "iter #123 Loss: 0.3361675012005767\n",
            "iter #124 Loss: 0.33554686526507893\n",
            "iter #125 Loss: 0.33504503821661025\n",
            "iter #126 Loss: 0.33440198900584645\n",
            "iter #127 Loss: 0.3339102668545875\n"
          ]
        }
      ],
      "source": [
        "for it in tqdm(range(num_epochs)):\n",
        "    losses = []\n",
        "    for x, y in train_loader:\n",
        "         if cuda:\n",
        "            x, y = x.cuda(), y.cuda()\n",
        "            optimizer.zero_grad()\n",
        "            outputs = model(x)\n",
        "            loss = loss_fn(outputs.squeeze(), y.type(torch.float32))\n",
        "            losses.append(loss.item())\n",
        "            loss.backward()\n",
        "            optimizer.step()#\n",
        "    print(\"iter #{}\".format(it), \"Loss:\", sum(losses) / len(losses))"
      ]
    },
    {
      "cell_type": "code",
      "execution_count": 12,
      "metadata": {
        "colab": {
          "base_uri": "https://localhost:8080/"
        },
        "id": "zs_GVbSYmhib",
        "outputId": "d4a5a7f6-f2a6-4d08-9083-84a2812c3f45"
      },
      "outputs": [
        {
          "name": "stdout",
          "output_type": "stream",
          "text": [
            "user_factors.weight tensor([[ 1.0644,  1.0421,  1.7337,  ...,  1.1874,  1.1629,  0.9372],\n",
            "        [ 1.8074,  0.6461,  1.2161,  ...,  0.1621,  0.2567,  1.8258],\n",
            "        [ 0.9084,  1.7954,  0.8384,  ..., -1.2373,  1.9695,  2.0541],\n",
            "        ...,\n",
            "        [ 0.9560,  2.5387,  1.8639,  ...,  1.4483,  0.8281,  0.2223],\n",
            "        [ 0.3048,  0.6336,  0.9815,  ...,  0.8975,  1.2594,  0.9969],\n",
            "        [ 1.2134,  1.0056,  1.1313,  ...,  0.4945,  2.0810,  1.3699]],\n",
            "       device='cuda:0')\n",
            "item_factors.weight tensor([[ 0.5624,  0.2631,  0.3133,  ...,  0.4449,  0.4555,  0.6236],\n",
            "        [ 0.6967, -0.1422,  0.5169,  ...,  0.2638,  0.3142,  0.2842],\n",
            "        [ 0.5184,  0.6106,  0.6313,  ...,  0.7618,  0.5348,  0.2878],\n",
            "        ...,\n",
            "        [ 0.3730,  0.3524,  0.3783,  ...,  0.3404,  0.3411,  0.3396],\n",
            "        [ 0.4095,  0.4080,  0.4303,  ...,  0.4309,  0.3991,  0.4121],\n",
            "        [ 0.4097,  0.4543,  0.4447,  ...,  0.4007,  0.4142,  0.4192]],\n",
            "       device='cuda:0')\n"
          ]
        }
      ],
      "source": [
        "# By training the model, we will have tuned latent factors for movies and users.\n",
        "c = 0\n",
        "uw = 0\n",
        "iw = 0 \n",
        "for name, param in model.named_parameters():\n",
        "    if param.requires_grad:\n",
        "        print(name, param.data)\n",
        "        if c == 0:\n",
        "          uw = param.data\n",
        "          c +=1\n",
        "        else:\n",
        "          iw = param.data\n",
        "        #print('param_data', param_data)"
      ]
    },
    {
      "cell_type": "code",
      "execution_count": 13,
      "metadata": {
        "id": "IJgie01_p8k5"
      },
      "outputs": [],
      "source": [
        "trained_movie_embeddings = model.item_factors.weight.data.cpu().numpy()"
      ]
    },
    {
      "cell_type": "code",
      "execution_count": 14,
      "metadata": {
        "colab": {
          "base_uri": "https://localhost:8080/"
        },
        "id": "R-_tHZ_E_rub",
        "outputId": "cb97ce5d-7140-43fa-8ffa-7603a22eee2c"
      },
      "outputs": [
        {
          "data": {
            "text/plain": [
              "9724"
            ]
          },
          "execution_count": 14,
          "metadata": {},
          "output_type": "execute_result"
        }
      ],
      "source": [
        "len(trained_movie_embeddings) # unique movie factor weights"
      ]
    },
    {
      "cell_type": "code",
      "execution_count": 15,
      "metadata": {
        "id": "bl9s4iqXy75q"
      },
      "outputs": [],
      "source": [
        "from sklearn.cluster import KMeans\n",
        "# Fit the clusters based on the movie weights\n",
        "kmeans = KMeans(n_clusters=10, random_state=0).fit(trained_movie_embeddings)"
      ]
    },
    {
      "cell_type": "code",
      "execution_count": 16,
      "metadata": {
        "colab": {
          "base_uri": "https://localhost:8080/"
        },
        "id": "8MDzp-9u-m5n",
        "outputId": "c6f77e4d-68d1-49c5-c022-25e80e99007d"
      },
      "outputs": [
        {
          "name": "stdout",
          "output_type": "stream",
          "text": [
            "Cluster #0\n",
            "\t Ghost (1990)\n",
            "\t Clueless (1995)\n",
            "\t Four Weddings and a Funeral (1994)\n",
            "\t Cliffhanger (1993)\n",
            "\t Casablanca (1942)\n",
            "\t Wizard of Oz, The (1939)\n",
            "\t Life Is Beautiful (La Vita è bella) (1997)\n",
            "\t Dead Poets Society (1989)\n",
            "\t Dave (1993)\n",
            "\t Slumdog Millionaire (2008)\n",
            "Cluster #1\n",
            "\t Forrest Gump (1994)\n",
            "\t Shawshank Redemption, The (1994)\n",
            "\t Silence of the Lambs, The (1991)\n",
            "\t Matrix, The (1999)\n",
            "\t Star Wars: Episode IV - A New Hope (1977)\n",
            "\t Braveheart (1995)\n",
            "\t Schindler's List (1993)\n",
            "\t Raiders of the Lost Ark (Indiana Jones and the Raiders of the Lost Ark) (1981)\n",
            "\t Fugitive, The (1993)\n",
            "\t Saving Private Ryan (1998)\n",
            "Cluster #2\n",
            "\t Willy Wonka & the Chocolate Factory (1971)\n",
            "\t Breakfast Club, The (1985)\n",
            "\t Kill Bill: Vol. 2 (2004)\n",
            "\t Beetlejuice (1988)\n",
            "\t Monty Python's Life of Brian (1979)\n",
            "\t Total Recall (1990)\n",
            "\t Ace Ventura: When Nature Calls (1995)\n",
            "\t Spirited Away (Sen to Chihiro no kamikakushi) (2001)\n",
            "\t When Harry Met Sally... (1989)\n",
            "\t Blues Brothers, The (1980)\n",
            "Cluster #3\n",
            "\t True Lies (1994)\n",
            "\t Mrs. Doubtfire (1993)\n",
            "\t Babe (1995)\n",
            "\t Twister (1996)\n",
            "\t E.T. the Extra-Terrestrial (1982)\n",
            "\t Home Alone (1990)\n",
            "\t Net, The (1995)\n",
            "\t Jumanji (1995)\n",
            "\t Harry Potter and the Sorcerer's Stone (a.k.a. Harry Potter and the Philosopher's Stone) (2001)\n",
            "\t Harry Potter and the Chamber of Secrets (2002)\n",
            "Cluster #4\n",
            "\t Batman & Robin (1997)\n",
            "\t Buffy the Vampire Slayer (1992)\n",
            "\t Joe Dirt (2001)\n",
            "\t Battlefield Earth (2000)\n",
            "\t Superman IV: The Quest for Peace (1987)\n",
            "\t Next Karate Kid, The (1994)\n",
            "\t Haunting, The (1999)\n",
            "\t Highlander III: The Sorcerer (a.k.a. Highlander: The Final Dimension) (1994)\n",
            "\t Problem Child (1990)\n",
            "\t Flintstones in Viva Rock Vegas, The (2000)\n",
            "Cluster #5\n",
            "\t Star Wars: Episode V - The Empire Strikes Back (1980)\n",
            "\t Star Wars: Episode VI - Return of the Jedi (1983)\n",
            "\t Mission: Impossible (1996)\n",
            "\t Ace Ventura: Pet Detective (1994)\n",
            "\t Monty Python and the Holy Grail (1975)\n",
            "\t GoldenEye (1995)\n",
            "\t Austin Powers: The Spy Who Shagged Me (1999)\n",
            "\t Minority Report (2002)\n",
            "\t Fifth Element, The (1997)\n",
            "\t Star Trek: Generations (1994)\n",
            "Cluster #6\n",
            "\t Gladiator (2000)\n",
            "\t Star Wars: Episode I - The Phantom Menace (1999)\n",
            "\t Batman Begins (2005)\n",
            "\t Crimson Tide (1995)\n",
            "\t V for Vendetta (2006)\n",
            "\t Matrix Reloaded, The (2003)\n",
            "\t Iron Man (2008)\n",
            "\t Star Wars: Episode II - Attack of the Clones (2002)\n",
            "\t Casino (1995)\n",
            "\t Bourne Ultimatum, The (2007)\n",
            "Cluster #7\n",
            "\t Pulp Fiction (1994)\n",
            "\t Fight Club (1999)\n",
            "\t Usual Suspects, The (1995)\n",
            "\t American Beauty (1999)\n",
            "\t Seven (a.k.a. Se7en) (1995)\n",
            "\t Godfather, The (1972)\n",
            "\t Fargo (1996)\n",
            "\t Sixth Sense, The (1999)\n",
            "\t Twelve Monkeys (a.k.a. 12 Monkeys) (1995)\n",
            "\t Memento (2000)\n",
            "Cluster #8\n",
            "\t Independence Day (a.k.a. ID4) (1996)\n",
            "\t Batman Forever (1995)\n",
            "\t Pretty Woman (1990)\n",
            "\t Dumb & Dumber (Dumb and Dumber) (1994)\n",
            "\t Waterworld (1995)\n",
            "\t Armageddon (1998)\n",
            "\t Mummy, The (1999)\n",
            "\t Broken Arrow (1996)\n",
            "\t Nutty Professor, The (1996)\n",
            "\t Demolition Man (1993)\n",
            "Cluster #9\n",
            "\t Jurassic Park (1993)\n",
            "\t Terminator 2: Judgment Day (1991)\n",
            "\t Toy Story (1995)\n",
            "\t Apollo 13 (1995)\n",
            "\t Lord of the Rings: The Fellowship of the Ring, The (2001)\n",
            "\t Batman (1989)\n",
            "\t Lord of the Rings: The Two Towers, The (2002)\n",
            "\t Lord of the Rings: The Return of the King, The (2003)\n",
            "\t Aladdin (1992)\n",
            "\t Lion King, The (1994)\n"
          ]
        }
      ],
      "source": [
        "'''It can be seen here that the movies that are in the same cluster tend to have\n",
        "similar genres. Also note that the algorithm is unfamiliar with the movie name\n",
        "and only obtained the relationships by looking at the numbers representing how\n",
        "users have responded to the movie selections.'''\n",
        "for cluster in range(10):\n",
        "  print(\"Cluster #{}\".format(cluster))\n",
        "  movs = []\n",
        "  for movidx in np.where(kmeans.labels_ == cluster)[0]:\n",
        "    movid = train_set.idx2movieid[movidx]\n",
        "    rat_count = ratings_df.loc[ratings_df['movieId']==movid].count()[0]\n",
        "    movs.append((movie_names[movid], rat_count))\n",
        "  for mov in sorted(movs, key=lambda tup: tup[1], reverse=True)[:10]:\n",
        "    print(\"\\t\", mov[0])"
      ]
    },
    {
      "cell_type": "code",
      "execution_count": null,
      "metadata": {},
      "outputs": [],
      "source": []
    },
    {
      "cell_type": "code",
      "execution_count": null,
      "metadata": {},
      "outputs": [],
      "source": []
    }
  ],
  "metadata": {
    "accelerator": "GPU",
    "colab": {
      "collapsed_sections": [],
      "name": "Recommendation_System.ipynb",
      "provenance": []
    },
    "kernelspec": {
      "display_name": "Python 3",
      "name": "python3"
    },
    "language_info": {
      "codemirror_mode": {
        "name": "ipython",
        "version": 3
      },
      "file_extension": ".py",
      "mimetype": "text/x-python",
      "name": "python",
      "nbconvert_exporter": "python",
      "pygments_lexer": "ipython3",
      "version": "3.7.11"
    },
    "widgets": {
      "application/vnd.jupyter.widget-state+json": {
        "005a499c40bd407ca20c2492d9c4f170": {
          "model_module": "@jupyter-widgets/base",
          "model_name": "LayoutModel",
          "state": {
            "_model_module": "@jupyter-widgets/base",
            "_model_module_version": "1.2.0",
            "_model_name": "LayoutModel",
            "_view_count": null,
            "_view_module": "@jupyter-widgets/base",
            "_view_module_version": "1.2.0",
            "_view_name": "LayoutView",
            "align_content": null,
            "align_items": null,
            "align_self": null,
            "border": null,
            "bottom": null,
            "display": null,
            "flex": null,
            "flex_flow": null,
            "grid_area": null,
            "grid_auto_columns": null,
            "grid_auto_flow": null,
            "grid_auto_rows": null,
            "grid_column": null,
            "grid_gap": null,
            "grid_row": null,
            "grid_template_areas": null,
            "grid_template_columns": null,
            "grid_template_rows": null,
            "height": null,
            "justify_content": null,
            "justify_items": null,
            "left": null,
            "margin": null,
            "max_height": null,
            "max_width": null,
            "min_height": null,
            "min_width": null,
            "object_fit": null,
            "object_position": null,
            "order": null,
            "overflow": null,
            "overflow_x": null,
            "overflow_y": null,
            "padding": null,
            "right": null,
            "top": null,
            "visibility": null,
            "width": null
          }
        },
        "20b4738815cd467dba2946031d6d9027": {
          "model_module": "@jupyter-widgets/base",
          "model_name": "LayoutModel",
          "state": {
            "_model_module": "@jupyter-widgets/base",
            "_model_module_version": "1.2.0",
            "_model_name": "LayoutModel",
            "_view_count": null,
            "_view_module": "@jupyter-widgets/base",
            "_view_module_version": "1.2.0",
            "_view_name": "LayoutView",
            "align_content": null,
            "align_items": null,
            "align_self": null,
            "border": null,
            "bottom": null,
            "display": null,
            "flex": null,
            "flex_flow": null,
            "grid_area": null,
            "grid_auto_columns": null,
            "grid_auto_flow": null,
            "grid_auto_rows": null,
            "grid_column": null,
            "grid_gap": null,
            "grid_row": null,
            "grid_template_areas": null,
            "grid_template_columns": null,
            "grid_template_rows": null,
            "height": null,
            "justify_content": null,
            "justify_items": null,
            "left": null,
            "margin": null,
            "max_height": null,
            "max_width": null,
            "min_height": null,
            "min_width": null,
            "object_fit": null,
            "object_position": null,
            "order": null,
            "overflow": null,
            "overflow_x": null,
            "overflow_y": null,
            "padding": null,
            "right": null,
            "top": null,
            "visibility": null,
            "width": null
          }
        },
        "3c1765cabeaf4d75a130311ddc4591a1": {
          "model_module": "@jupyter-widgets/controls",
          "model_name": "HBoxModel",
          "state": {
            "_dom_classes": [],
            "_model_module": "@jupyter-widgets/controls",
            "_model_module_version": "1.5.0",
            "_model_name": "HBoxModel",
            "_view_count": null,
            "_view_module": "@jupyter-widgets/controls",
            "_view_module_version": "1.5.0",
            "_view_name": "HBoxView",
            "box_style": "",
            "children": [
              "IPY_MODEL_69073fd458234bba829af9731b4fce1c",
              "IPY_MODEL_88151edb53134487b95f6bcbcd7fd2b4"
            ],
            "layout": "IPY_MODEL_6db170b52f5a4f72afd083a3a9c157aa"
          }
        },
        "69073fd458234bba829af9731b4fce1c": {
          "model_module": "@jupyter-widgets/controls",
          "model_name": "FloatProgressModel",
          "state": {
            "_dom_classes": [],
            "_model_module": "@jupyter-widgets/controls",
            "_model_module_version": "1.5.0",
            "_model_name": "FloatProgressModel",
            "_view_count": null,
            "_view_module": "@jupyter-widgets/controls",
            "_view_module_version": "1.5.0",
            "_view_name": "ProgressView",
            "bar_style": "success",
            "description": "100%",
            "description_tooltip": null,
            "layout": "IPY_MODEL_20b4738815cd467dba2946031d6d9027",
            "max": 128,
            "min": 0,
            "orientation": "horizontal",
            "style": "IPY_MODEL_9b185906b1dc465e93b9f058a1fec47a",
            "value": 128
          }
        },
        "6db170b52f5a4f72afd083a3a9c157aa": {
          "model_module": "@jupyter-widgets/base",
          "model_name": "LayoutModel",
          "state": {
            "_model_module": "@jupyter-widgets/base",
            "_model_module_version": "1.2.0",
            "_model_name": "LayoutModel",
            "_view_count": null,
            "_view_module": "@jupyter-widgets/base",
            "_view_module_version": "1.2.0",
            "_view_name": "LayoutView",
            "align_content": null,
            "align_items": null,
            "align_self": null,
            "border": null,
            "bottom": null,
            "display": null,
            "flex": null,
            "flex_flow": null,
            "grid_area": null,
            "grid_auto_columns": null,
            "grid_auto_flow": null,
            "grid_auto_rows": null,
            "grid_column": null,
            "grid_gap": null,
            "grid_row": null,
            "grid_template_areas": null,
            "grid_template_columns": null,
            "grid_template_rows": null,
            "height": null,
            "justify_content": null,
            "justify_items": null,
            "left": null,
            "margin": null,
            "max_height": null,
            "max_width": null,
            "min_height": null,
            "min_width": null,
            "object_fit": null,
            "object_position": null,
            "order": null,
            "overflow": null,
            "overflow_x": null,
            "overflow_y": null,
            "padding": null,
            "right": null,
            "top": null,
            "visibility": null,
            "width": null
          }
        },
        "88151edb53134487b95f6bcbcd7fd2b4": {
          "model_module": "@jupyter-widgets/controls",
          "model_name": "HTMLModel",
          "state": {
            "_dom_classes": [],
            "_model_module": "@jupyter-widgets/controls",
            "_model_module_version": "1.5.0",
            "_model_name": "HTMLModel",
            "_view_count": null,
            "_view_module": "@jupyter-widgets/controls",
            "_view_module_version": "1.5.0",
            "_view_name": "HTMLView",
            "description": "",
            "description_tooltip": null,
            "layout": "IPY_MODEL_005a499c40bd407ca20c2492d9c4f170",
            "placeholder": "​",
            "style": "IPY_MODEL_c279f9a0a0fe498b9db167a237517e6e",
            "value": " 128/128 [03:03&lt;00:00,  1.44s/it]"
          }
        },
        "9b185906b1dc465e93b9f058a1fec47a": {
          "model_module": "@jupyter-widgets/controls",
          "model_name": "ProgressStyleModel",
          "state": {
            "_model_module": "@jupyter-widgets/controls",
            "_model_module_version": "1.5.0",
            "_model_name": "ProgressStyleModel",
            "_view_count": null,
            "_view_module": "@jupyter-widgets/base",
            "_view_module_version": "1.2.0",
            "_view_name": "StyleView",
            "bar_color": null,
            "description_width": "initial"
          }
        },
        "c279f9a0a0fe498b9db167a237517e6e": {
          "model_module": "@jupyter-widgets/controls",
          "model_name": "DescriptionStyleModel",
          "state": {
            "_model_module": "@jupyter-widgets/controls",
            "_model_module_version": "1.5.0",
            "_model_name": "DescriptionStyleModel",
            "_view_count": null,
            "_view_module": "@jupyter-widgets/base",
            "_view_module_version": "1.2.0",
            "_view_name": "StyleView",
            "description_width": ""
          }
        }
      }
    }
  },
  "nbformat": 4,
  "nbformat_minor": 0
}
