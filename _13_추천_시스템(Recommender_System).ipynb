{
  "nbformat": 4,
  "nbformat_minor": 0,
  "metadata": {
    "colab": {
      "name": "_13 추천 시스템(Recommender System).ipynb",
      "provenance": [],
      "collapsed_sections": [],
      "toc_visible": true
    },
    "kernelspec": {
      "name": "python3",
      "display_name": "Python 3"
    },
    "accelerator": "GPU"
  },
  "cells": [
    {
      "cell_type": "markdown",
      "metadata": {
        "id": "oIAnNuuX2EOr"
      },
      "source": [
        "# 추천 시스템 (Recommender Systems)\n",
        "\n",
        "* 추천 시스템은 크게 두가지로 구분 가능\n",
        "  * 컨텐츠 기반 필터링 (content-based filtering)\n",
        "  * 협업 필터링 (collaborative filtering)\n",
        "* 두가지를 조합한 hybrid 방식도 가능\n",
        "* 컨텐츠 기반 필터링은 지금까지 사용자의 이전 행동과 명시적 피드백을 통해 사용자가 좋아하는 것과 유사한 항목을 추천\n",
        "* 협업 필터링은 사용자와 항목간의 유사성을 동시에 사용해 추천"
      ]
    },
    {
      "cell_type": "markdown",
      "metadata": {
        "id": "pKQvtsfX2bRf"
      },
      "source": [
        "## Surprise\n",
        "\n",
        "* 추천 시스템 개발을 위한 라이브러리\n",
        "* 다양한 모델과 데이터 제공\n",
        "* scikit-learn과 유사한 사용 방법"
      ]
    },
    {
      "cell_type": "code",
      "source": [
        "!pip install surprise"
      ],
      "metadata": {
        "id": "YOSD5YupzKXh",
        "outputId": "12b38a36-f73c-4e05-a36c-46c7770d2fc1",
        "colab": {
          "base_uri": "https://localhost:8080/"
        }
      },
      "execution_count": 3,
      "outputs": [
        {
          "output_type": "stream",
          "name": "stdout",
          "text": [
            "Collecting surprise\n",
            "  Downloading surprise-0.1-py2.py3-none-any.whl (1.8 kB)\n",
            "Collecting scikit-surprise\n",
            "  Downloading scikit-surprise-1.1.1.tar.gz (11.8 MB)\n",
            "\u001b[K     |████████████████████████████████| 11.8 MB 12.1 MB/s \n",
            "\u001b[?25hRequirement already satisfied: joblib>=0.11 in /usr/local/lib/python3.7/dist-packages (from scikit-surprise->surprise) (1.1.0)\n",
            "Requirement already satisfied: numpy>=1.11.2 in /usr/local/lib/python3.7/dist-packages (from scikit-surprise->surprise) (1.21.5)\n",
            "Requirement already satisfied: scipy>=1.0.0 in /usr/local/lib/python3.7/dist-packages (from scikit-surprise->surprise) (1.4.1)\n",
            "Requirement already satisfied: six>=1.10.0 in /usr/local/lib/python3.7/dist-packages (from scikit-surprise->surprise) (1.15.0)\n",
            "Building wheels for collected packages: scikit-surprise\n",
            "  Building wheel for scikit-surprise (setup.py) ... \u001b[?25l\u001b[?25hdone\n",
            "  Created wheel for scikit-surprise: filename=scikit_surprise-1.1.1-cp37-cp37m-linux_x86_64.whl size=1630217 sha256=e4415da4fe07b114587158fc9cfcb99ac2bdec0d6c5a232fb4b1d4de866798f7\n",
            "  Stored in directory: /root/.cache/pip/wheels/76/44/74/b498c42be47b2406bd27994e16c5188e337c657025ab400c1c\n",
            "Successfully built scikit-surprise\n",
            "Installing collected packages: scikit-surprise, surprise\n",
            "Successfully installed scikit-surprise-1.1.1 surprise-0.1\n"
          ]
        }
      ]
    },
    {
      "cell_type": "code",
      "metadata": {
        "id": "AvuLuP8J16Eb"
      },
      "source": [
        "from surprise import SVD\n",
        "from surprise import Dataset\n",
        "from surprise.model_selection import cross_validate"
      ],
      "execution_count": 4,
      "outputs": []
    },
    {
      "cell_type": "markdown",
      "metadata": {
        "id": "f8S2mbY13TPl"
      },
      "source": [
        "간단한 surprise 실습"
      ]
    },
    {
      "cell_type": "code",
      "metadata": {
        "id": "FXrDk0XH2vbx"
      },
      "source": [
        "data=Dataset.load_buil"
      ],
      "execution_count": null,
      "outputs": []
    },
    {
      "cell_type": "code",
      "metadata": {
        "id": "M0SJB24k3ReQ",
        "colab": {
          "base_uri": "https://localhost:8080/"
        },
        "outputId": "444f770f-513f-4c8d-ab88-06dd3c44981c"
      },
      "source": [
        "data=Dataset.load_builtin('ml-100k',prompt=False)\n",
        "data.raw_ratings[:10]"
      ],
      "execution_count": 5,
      "outputs": [
        {
          "output_type": "stream",
          "name": "stdout",
          "text": [
            "Trying to download dataset from http://files.grouplens.org/datasets/movielens/ml-100k.zip...\n",
            "Done! Dataset ml-100k has been saved to /root/.surprise_data/ml-100k\n"
          ]
        },
        {
          "output_type": "execute_result",
          "data": {
            "text/plain": [
              "[('196', '242', 3.0, '881250949'),\n",
              " ('186', '302', 3.0, '891717742'),\n",
              " ('22', '377', 1.0, '878887116'),\n",
              " ('244', '51', 2.0, '880606923'),\n",
              " ('166', '346', 1.0, '886397596'),\n",
              " ('298', '474', 4.0, '884182806'),\n",
              " ('115', '265', 2.0, '881171488'),\n",
              " ('253', '465', 5.0, '891628467'),\n",
              " ('305', '451', 3.0, '886324817'),\n",
              " ('6', '86', 3.0, '883603013')]"
            ]
          },
          "metadata": {},
          "execution_count": 5
        }
      ]
    },
    {
      "cell_type": "code",
      "metadata": {
        "id": "IGZjsosZ3jwy"
      },
      "source": [
        "model=SVD()"
      ],
      "execution_count": 6,
      "outputs": []
    },
    {
      "cell_type": "code",
      "metadata": {
        "id": "nAF9VVHt9qz9",
        "colab": {
          "base_uri": "https://localhost:8080/"
        },
        "outputId": "925b9392-ac3e-4f41-b071-51d77c239264"
      },
      "source": [
        "cross_validate(model,data,measures=['rmse','mae'],cv=5,verbose=True)"
      ],
      "execution_count": 9,
      "outputs": [
        {
          "output_type": "stream",
          "name": "stdout",
          "text": [
            "Evaluating RMSE, MAE of algorithm SVD on 5 split(s).\n",
            "\n",
            "                  Fold 1  Fold 2  Fold 3  Fold 4  Fold 5  Mean    Std     \n",
            "RMSE (testset)    0.9386  0.9303  0.9373  0.9340  0.9386  0.9357  0.0032  \n",
            "MAE (testset)     0.7409  0.7325  0.7401  0.7331  0.7396  0.7373  0.0036  \n",
            "Fit time          5.18    5.12    4.85    4.78    4.72    4.93    0.18    \n",
            "Test time         0.20    0.27    0.17    0.18    0.17    0.20    0.04    \n"
          ]
        },
        {
          "output_type": "execute_result",
          "data": {
            "text/plain": [
              "{'fit_time': (5.1766698360443115,\n",
              "  5.116447925567627,\n",
              "  4.849559545516968,\n",
              "  4.780054807662964,\n",
              "  4.720704793930054),\n",
              " 'test_mae': array([0.74087576, 0.73251391, 0.74012069, 0.73313616, 0.73964971]),\n",
              " 'test_rmse': array([0.93861055, 0.93027393, 0.93725261, 0.93401596, 0.93858507]),\n",
              " 'test_time': (0.195265531539917,\n",
              "  0.2708101272583008,\n",
              "  0.17180299758911133,\n",
              "  0.1752781867980957,\n",
              "  0.1747267246246338)}"
            ]
          },
          "metadata": {},
          "execution_count": 9
        }
      ]
    },
    {
      "cell_type": "markdown",
      "metadata": {
        "id": "tP5L65zvCRlv"
      },
      "source": [
        "## 컨텐츠 기반 필터링 (Content-based Filtering)\n",
        "\n",
        "* 컨텐츠 기반 필터링은 이전의 행동과 명시적 피드백을 통해 좋아하는 것과 유사한 항목을 추천\n",
        "  * ex) 내가 지금 까지 시청한 영화 목록과 다른 사용자의 시청 목록을 비교해 나와 비슷한 취향의 사용자가 시청한 영화를 추천\n",
        "* 유사도를 기반으로 추천\n",
        "* 컨텐츠 기반 필터링은 다음과 같은 장단점이 있다.\n",
        "  * 장점\n",
        "    * 많은 수의 사용자를 대상으로 쉽게 확장 가능\n",
        "    * 사용자가 관심을 갖지 않던 상품 추천 가능\n",
        "  * 단점\n",
        "    * 입력 특성을 직접 설계해야 하기 때문에 많은 도메인 지식이 필요\n",
        "    * 사용자의 기존 관심사항을 기반으로만 추천 가능"
      ]
    },
    {
      "cell_type": "code",
      "metadata": {
        "id": "M81hRKa9-9pK"
      },
      "source": [
        "import numpy as np\n",
        "from surprise import Dataset"
      ],
      "execution_count": 10,
      "outputs": []
    },
    {
      "cell_type": "markdown",
      "metadata": {
        "id": "0NyTt1u8LLCP"
      },
      "source": [
        "* 이진 벡터의 내적을 통해 다른 사용자들과의 유사도 구하기\n",
        "* 나와 가장 높은 유사도를 가진 사용자의 시청 목록을 추천"
      ]
    },
    {
      "cell_type": "code",
      "metadata": {
        "id": "-Y3Y_rNWH-zT"
      },
      "source": [
        "data=Dataset.load_builtin('ml-100k',prompt=False)\n",
        "raw_data=np.array(data.raw_ratings,dtype=int)"
      ],
      "execution_count": 11,
      "outputs": []
    },
    {
      "cell_type": "code",
      "metadata": {
        "id": "z60YDlPOJzSr"
      },
      "source": [
        "raw_data[:,0]-=1\n",
        "raw_data[:,1]-=1"
      ],
      "execution_count": 12,
      "outputs": []
    },
    {
      "cell_type": "code",
      "metadata": {
        "id": "4f20U_BFIbQA",
        "colab": {
          "base_uri": "https://localhost:8080/"
        },
        "outputId": "e8736785-dac3-4d2c-d85e-20d1aee10101"
      },
      "source": [
        "n_users=np.max(raw_data[:,0])\n",
        "n_movies=np.max(raw_data[:,1])\n",
        "shape=(n_users+1,n_movies+1)\n",
        "shape"
      ],
      "execution_count": 14,
      "outputs": [
        {
          "output_type": "execute_result",
          "data": {
            "text/plain": [
              "(943, 1682)"
            ]
          },
          "metadata": {},
          "execution_count": 14
        }
      ]
    },
    {
      "cell_type": "code",
      "metadata": {
        "id": "JT6HXk_8I4Zd",
        "colab": {
          "base_uri": "https://localhost:8080/"
        },
        "outputId": "04a85419-c4d0-4864-b9ad-d3fec3616690"
      },
      "source": [
        "adj_matrix=np.ndarray(shape,dtype=int)\n",
        "for user_id,movie_id,rating,time in raw_data:\n",
        "  adj_matrix[user_id][movie_id]=1.\n",
        "adj_matrix"
      ],
      "execution_count": 15,
      "outputs": [
        {
          "output_type": "execute_result",
          "data": {
            "text/plain": [
              "array([[1, 1, 1, ..., 0, 0, 0],\n",
              "       [1, 0, 0, ..., 0, 0, 0],\n",
              "       [0, 0, 0, ..., 0, 0, 0],\n",
              "       ...,\n",
              "       [1, 0, 0, ..., 0, 0, 0],\n",
              "       [0, 0, 0, ..., 0, 0, 0],\n",
              "       [0, 1, 0, ..., 0, 0, 0]])"
            ]
          },
          "metadata": {},
          "execution_count": 15
        }
      ]
    },
    {
      "cell_type": "code",
      "metadata": {
        "id": "bVShJje-Jn0x",
        "colab": {
          "base_uri": "https://localhost:8080/"
        },
        "outputId": "4ecf55a6-13ec-4380-9bb8-61227d5331cf"
      },
      "source": [
        "my_id,my_vector=0,adj_matrix[0]\n",
        "best_match,best_match_id,best_match_vector=-1,-1,[]\n",
        "\n",
        "for user_id,user_vector in enumerate(adj_matrix):\n",
        "  if my_id !=user_id:\n",
        "    similarity=np.dot(my_vector,user_vector)\n",
        "    if similarity > best_match:\n",
        "      best_match=similarity\n",
        "      best_match_id=user_id\n",
        "      best_match_vector=user_vector\n",
        "\n",
        "  \n",
        "print('best Match: {}, Best Match ID : {}'.format(best_match,best_match_id))"
      ],
      "execution_count": 16,
      "outputs": [
        {
          "output_type": "stream",
          "name": "stdout",
          "text": [
            "best Match: 183, Best Match ID : 275\n"
          ]
        }
      ]
    },
    {
      "cell_type": "code",
      "metadata": {
        "id": "mRr8UnD7MB7U",
        "colab": {
          "base_uri": "https://localhost:8080/"
        },
        "outputId": "840fa44f-b0f0-43ef-d858-b0ea862a905d"
      },
      "source": [
        "recommend_list=[]\n",
        "for i, log in enumerate(zip(my_vector,best_match_vector)):\n",
        "  log1,log2=log\n",
        "  if log1<1. and log2 > 0.:\n",
        "    recommend_list.append(i)\n",
        "print(recommend_list)"
      ],
      "execution_count": 19,
      "outputs": [
        {
          "output_type": "stream",
          "name": "stdout",
          "text": [
            "[272, 273, 275, 280, 281, 283, 287, 288, 289, 290, 292, 293, 297, 299, 300, 301, 302, 306, 312, 314, 315, 316, 317, 321, 322, 323, 324, 327, 330, 331, 332, 333, 339, 342, 345, 346, 353, 354, 355, 356, 357, 363, 364, 365, 366, 372, 374, 378, 379, 381, 382, 383, 384, 385, 386, 387, 390, 391, 392, 394, 395, 396, 398, 400, 401, 402, 403, 404, 405, 406, 407, 408, 409, 410, 412, 414, 416, 417, 418, 419, 420, 422, 424, 425, 426, 427, 428, 430, 431, 432, 435, 442, 446, 447, 448, 449, 450, 451, 452, 454, 455, 457, 460, 461, 462, 468, 469, 470, 471, 472, 473, 474, 478, 495, 500, 507, 517, 522, 525, 530, 539, 540, 543, 545, 546, 548, 549, 550, 551, 553, 557, 558, 560, 561, 562, 563, 565, 566, 567, 568, 570, 571, 574, 575, 576, 577, 580, 581, 582, 585, 587, 589, 590, 594, 596, 602, 623, 626, 627, 630, 633, 635, 639, 646, 648, 651, 652, 654, 657, 664, 668, 671, 677, 678, 681, 683, 684, 685, 690, 691, 692, 695, 696, 708, 709, 714, 718, 719, 720, 724, 726, 727, 731, 733, 734, 736, 738, 741, 742, 745, 746, 747, 749, 750, 754, 758, 762, 764, 767, 768, 769, 770, 771, 772, 773, 778, 779, 782, 785, 788, 789, 793, 795, 796, 799, 800, 801, 802, 805, 806, 808, 815, 819, 822, 824, 830, 839, 842, 843, 844, 852, 853, 870, 875, 878, 880, 889, 901, 914, 915, 918, 921, 927, 929, 930, 938, 940, 941, 942, 948, 950, 958, 968, 973, 974, 976, 992, 999, 1005, 1009, 1010, 1012, 1015, 1018, 1027, 1030, 1034, 1035, 1041, 1043, 1045, 1046, 1051, 1055, 1072, 1073, 1078, 1080, 1082, 1088, 1089, 1090, 1094, 1097, 1108, 1109, 1117, 1128, 1130, 1134, 1139, 1140, 1144, 1156, 1169, 1171, 1179, 1193, 1198, 1207, 1209, 1212, 1217, 1219, 1220, 1227, 1231, 1238, 1239, 1243, 1244, 1252, 1266, 1272, 1273, 1300, 1313, 1406, 1412, 1415, 1470, 1477, 1480, 1481, 1482]\n"
          ]
        }
      ]
    },
    {
      "cell_type": "markdown",
      "metadata": {
        "id": "zR7-LITWZQnJ"
      },
      "source": [
        "* 유클리드 거리를 사용해 추천\n",
        "$$euclidean = \\sqrt{\\sum_{d=1}^{D}(A_i - B_i)^2}$$\n",
        "* 거리가 가까울 수록(값이 작을 수록) 나와 유사한 사용자"
      ]
    },
    {
      "cell_type": "code",
      "metadata": {
        "id": "WhbLJGz3NuNA",
        "colab": {
          "base_uri": "https://localhost:8080/"
        },
        "outputId": "47ba1834-364e-4430-d8f0-b1bc572ad3ba"
      },
      "source": [
        "my_id,my_vector=0,adj_matrix[0]\n",
        "best_match,best_match_id,best_match_vector=9999,-1,[]\n",
        "\n",
        "for user_id,user_vector in enumerate(adj_matrix):\n",
        "  if my_id !=user_id:\n",
        "    euclidean_dist=np.sqrt(np.sum(np.square(my_vector-user_vector)))\n",
        "    if euclidean_dist < best_match:\n",
        "      best_match=euclidean_dist\n",
        "      best_match_id=user_id\n",
        "      best_match_vector=user_vector\n",
        "\n",
        "  \n",
        "print('best Match: {}, Best Match ID : {}'.format(best_match,best_match_id))"
      ],
      "execution_count": 24,
      "outputs": [
        {
          "output_type": "stream",
          "name": "stdout",
          "text": [
            "best Match: 14.832396974191326, Best Match ID : 737\n"
          ]
        }
      ]
    },
    {
      "cell_type": "code",
      "metadata": {
        "id": "xbS037xebA76",
        "colab": {
          "base_uri": "https://localhost:8080/"
        },
        "outputId": "52aa52ea-5928-4f33-e3d5-c463fefe33e4"
      },
      "source": [
        "recommend_list=[]\n",
        "for i, log in enumerate(zip(my_vector,best_match_vector)):\n",
        "  log1,log2=log\n",
        "  if log1<1. and log2 > 0.:\n",
        "    recommend_list.append(i)\n",
        "print(recommend_list)"
      ],
      "execution_count": 25,
      "outputs": [
        {
          "output_type": "stream",
          "name": "stdout",
          "text": [
            "[297, 312, 317, 342, 356, 366, 379, 384, 392, 402, 404, 407, 417, 422, 428, 433, 448, 454, 469, 473, 495, 510, 516, 526, 527, 549, 567, 602, 635, 649, 650, 654, 658, 661, 664, 696, 731, 746, 750, 754, 915, 918, 925, 929, 950, 968, 1015, 1046]\n"
          ]
        }
      ]
    },
    {
      "cell_type": "markdown",
      "metadata": {
        "id": "52c6nfonct7x"
      },
      "source": [
        "* 코사인 유사도를 사용해 추천\n",
        "\n",
        "\\begin{equation}\n",
        "cos \\theta = \\frac{A \\cdot B}{||A|| \\times ||B||}\n",
        "\\end{equation}\n",
        "* 두 벡터가 이루고 있는 각을 계산"
      ]
    },
    {
      "cell_type": "code",
      "metadata": {
        "id": "WEJMnmAYejJW"
      },
      "source": [
        "def compute_cos_similarity(v1,v2):\n",
        "  norm1=np.sqrt(np.sum(np.square(v1)))\n",
        "  norm2=np.sqrt(np.sum(np.square(v2)))\n",
        "  dot=np.dot(v1,v2)\n",
        "  return dot/(norm1*norm2)"
      ],
      "execution_count": 28,
      "outputs": []
    },
    {
      "cell_type": "code",
      "metadata": {
        "id": "eouFYlVZb3iT",
        "colab": {
          "base_uri": "https://localhost:8080/"
        },
        "outputId": "dff5a653-564a-436b-9edd-f624dee25185"
      },
      "source": [
        "my_id,my_vector=0,adj_matrix[0]\n",
        "best_match,best_match_id,best_match_vector=-1,-1,[]\n",
        "\n",
        "for user_id,user_vector in enumerate(adj_matrix):\n",
        "  if my_id !=user_id:\n",
        "    cos_similarity=compute_cos_similarity(my_vector,user_vector)\n",
        "    if cos_similarity > best_match:\n",
        "      best_match=cos_similarity\n",
        "      best_match_id=user_id\n",
        "      best_match_vector=user_vector\n",
        "\n",
        "  \n",
        "print('best Match: {}, Best Match ID : {}'.format(best_match,best_match_id))"
      ],
      "execution_count": 30,
      "outputs": [
        {
          "output_type": "stream",
          "name": "stdout",
          "text": [
            "best Match: 0.5278586163659506, Best Match ID : 915\n"
          ]
        }
      ]
    },
    {
      "cell_type": "markdown",
      "source": [
        "915 qjsdlqhkTwlaks sksms dksqhs dudghkemfdmf cncjsgownsek."
      ],
      "metadata": {
        "id": "w6wS2rW13smv"
      }
    },
    {
      "cell_type": "code",
      "metadata": {
        "id": "HVhjBMure_4D",
        "colab": {
          "base_uri": "https://localhost:8080/"
        },
        "outputId": "27e3895a-36db-47ad-89e5-4108a88a5a79"
      },
      "source": [
        "recommend_list=[]\n",
        "for i, log in enumerate(zip(my_vector,best_match_vector)):\n",
        "  log1,log2=log\n",
        "  if log1<1. and log2 > 0.:\n",
        "    recommend_list.append(i)\n",
        "print(recommend_list)"
      ],
      "execution_count": 31,
      "outputs": [
        {
          "output_type": "stream",
          "name": "stdout",
          "text": [
            "[272, 275, 279, 280, 283, 285, 289, 294, 297, 316, 317, 355, 365, 366, 368, 379, 380, 381, 384, 386, 392, 398, 401, 404, 416, 420, 422, 424, 426, 427, 430, 432, 450, 460, 461, 466, 469, 471, 473, 474, 475, 479, 482, 483, 497, 505, 508, 510, 511, 522, 526, 527, 529, 530, 534, 536, 540, 545, 548, 549, 556, 557, 558, 560, 565, 567, 568, 569, 577, 580, 581, 582, 592, 596, 630, 635, 639, 641, 649, 651, 654, 673, 677, 678, 683, 684, 692, 696, 701, 703, 707, 708, 709, 712, 714, 719, 720, 726, 731, 734, 736, 738, 740, 745, 747, 754, 755, 761, 762, 763, 766, 780, 789, 791, 805, 819, 823, 824, 830, 843, 862, 865, 918, 929, 930, 938, 942, 943, 947, 958, 959, 960, 970, 977, 1004, 1008, 1009, 1010, 1013, 1041, 1045, 1069, 1072, 1073, 1078, 1097, 1100, 1108, 1112, 1118, 1134, 1193, 1205, 1207, 1216, 1219, 1267, 1334, 1400, 1427, 1596, 1681]\n"
          ]
        }
      ]
    },
    {
      "cell_type": "markdown",
      "metadata": {
        "id": "0dbZPgC4gZYw"
      },
      "source": [
        "기존 방법에 명시적 피드백(사용자가 평가한 영화 점수)을 추가해 실험"
      ]
    },
    {
      "cell_type": "code",
      "metadata": {
        "id": "_5udkr1PfGAD",
        "colab": {
          "base_uri": "https://localhost:8080/"
        },
        "outputId": "9c2656ce-622b-4f2f-b4c2-26b0baa093b4"
      },
      "source": [
        "adj_matrix=np.ndarray(shape,dtype=int)\n",
        "for user_id,movie_id,rating,time in raw_data:\n",
        "  adj_matrix[user_id][movie_id]=rating\n",
        "adj_matrix"
      ],
      "execution_count": 33,
      "outputs": [
        {
          "output_type": "execute_result",
          "data": {
            "text/plain": [
              "array([[5, 3, 4, ..., 0, 0, 0],\n",
              "       [4, 0, 0, ..., 0, 0, 0],\n",
              "       [0, 0, 0, ..., 0, 0, 0],\n",
              "       ...,\n",
              "       [5, 0, 0, ..., 0, 0, 0],\n",
              "       [0, 0, 0, ..., 0, 0, 0],\n",
              "       [0, 5, 0, ..., 0, 0, 0]])"
            ]
          },
          "metadata": {},
          "execution_count": 33
        }
      ]
    },
    {
      "cell_type": "code",
      "metadata": {
        "id": "ApfZVTtGgs41",
        "colab": {
          "base_uri": "https://localhost:8080/"
        },
        "outputId": "1fab598f-3cb8-4aa4-fc02-ca0dcebe40fd"
      },
      "source": [
        "my_id,my_vector=0,adj_matrix[0]\n",
        "best_match,best_match_id,best_match_vector=9999,-1,[]\n",
        "\n",
        "for user_id,user_vector in enumerate(adj_matrix):\n",
        "  if my_id !=user_id:\n",
        "    euclidean_dist=np.sqrt(np.sum(np.square(my_vector-user_vector)))\n",
        "    if euclidean_dist < best_match:\n",
        "      best_match=euclidean_dist\n",
        "      best_match_id=user_id\n",
        "      best_match_vector=user_vector\n",
        "\n",
        "  \n",
        "print('best Match: {}, Best Match ID : {}'.format(best_match,best_match_id))"
      ],
      "execution_count": 34,
      "outputs": [
        {
          "output_type": "stream",
          "name": "stdout",
          "text": [
            "best Match: 55.06359959174482, Best Match ID : 737\n"
          ]
        }
      ]
    },
    {
      "cell_type": "code",
      "metadata": {
        "id": "OYTI1nT0hKtz",
        "colab": {
          "base_uri": "https://localhost:8080/"
        },
        "outputId": "1b021d5e-5b18-4ccf-9161-5cc92c30764d"
      },
      "source": [
        "my_id,my_vector=0,adj_matrix[0]\n",
        "best_match,best_match_id,best_match_vector=-1,-1,[]\n",
        "\n",
        "for user_id,user_vector in enumerate(adj_matrix):\n",
        "  if my_id !=user_id:\n",
        "    cos_similarity=compute_cos_similarity(my_vector,user_vector)\n",
        "    if cos_similarity > best_match:\n",
        "      best_match=cos_similarity\n",
        "      best_match_id=user_id\n",
        "      best_match_vector=user_vector\n",
        "\n",
        "  \n",
        "print('best Match: {}, Best Match ID : {}'.format(best_match,best_match_id))"
      ],
      "execution_count": 35,
      "outputs": [
        {
          "output_type": "stream",
          "name": "stdout",
          "text": [
            "best Match: 0.569065731527988, Best Match ID : 915\n"
          ]
        }
      ]
    },
    {
      "cell_type": "markdown",
      "metadata": {
        "id": "HreRrslahd32"
      },
      "source": [
        "## 협업 필터링(Collaborative Filtering)\n",
        "\n",
        "* 사용자와 항목의 유사성을 동시에 고려해 추천\n",
        "* 기존에 내 관심사가 아닌 항목이라도 추천 가능\n",
        "* 자동으로 임베딩 학습 가능\n",
        "* 협업 필터링은 다음과 같은 장단점을 갖고 있다.\n",
        "  * 장점\n",
        "    * 자동으로 임베딩을 학습하기 때문에 도메인 지식이 필요 없다.\n",
        "    * 기존의 관심사가 아니더라도 추천 가능\n",
        "  * 단점\n",
        "    * 학습 과정에 나오지 않은 항목은 임베딩을 만들 수 없음\n",
        "    * 추가 특성을 사용하기 어려움"
      ]
    },
    {
      "cell_type": "code",
      "metadata": {
        "id": "BSj5Ex6yhPxq"
      },
      "source": [
        "from surprise import KNNBasic, SVD, SVDpp,NMF\n",
        "from surprise import Dataset\n",
        "from surprise.model_selection import cross_validate"
      ],
      "execution_count": 37,
      "outputs": []
    },
    {
      "cell_type": "code",
      "metadata": {
        "id": "mWAiO62WkH2U"
      },
      "source": [
        "data=Dataset.load_builtin('ml-100k',prompt=False)"
      ],
      "execution_count": 38,
      "outputs": []
    },
    {
      "cell_type": "markdown",
      "metadata": {
        "id": "LKP-UxZkkc8n"
      },
      "source": [
        "* KNN을 사용한 협업 필터링"
      ]
    },
    {
      "cell_type": "code",
      "metadata": {
        "id": "x9LlEDqvkayg",
        "colab": {
          "base_uri": "https://localhost:8080/"
        },
        "outputId": "3e23b3e5-38b5-4476-914c-4161b913c795"
      },
      "source": [
        "model=KNNBasic()\n",
        "cross_validate(model,data,measures=['rmse','mae'],cv=5,n_jobs=4,verbose=True)"
      ],
      "execution_count": 39,
      "outputs": [
        {
          "output_type": "stream",
          "name": "stdout",
          "text": [
            "Evaluating RMSE, MAE of algorithm KNNBasic on 5 split(s).\n",
            "\n",
            "                  Fold 1  Fold 2  Fold 3  Fold 4  Fold 5  Mean    Std     \n",
            "RMSE (testset)    0.9810  0.9796  0.9765  0.9792  0.9720  0.9776  0.0032  \n",
            "MAE (testset)     0.7737  0.7746  0.7709  0.7734  0.7690  0.7723  0.0021  \n",
            "Fit time          0.32    0.54    0.46    0.43    0.45    0.44    0.07    \n",
            "Test time         7.49    8.20    8.15    7.20    3.82    6.97    1.62    \n"
          ]
        },
        {
          "output_type": "execute_result",
          "data": {
            "text/plain": [
              "{'fit_time': (0.32428431510925293,\n",
              "  0.537247896194458,\n",
              "  0.45870494842529297,\n",
              "  0.428896427154541,\n",
              "  0.44632720947265625),\n",
              " 'test_mae': array([0.77373531, 0.77456674, 0.77088424, 0.77339578, 0.76899244]),\n",
              " 'test_rmse': array([0.98096715, 0.97955353, 0.97647973, 0.9792246 , 0.9720201 ]),\n",
              " 'test_time': (7.4903788566589355,\n",
              "  8.20331621170044,\n",
              "  8.152160167694092,\n",
              "  7.199713230133057,\n",
              "  3.824502468109131)}"
            ]
          },
          "metadata": {},
          "execution_count": 39
        }
      ]
    },
    {
      "cell_type": "markdown",
      "metadata": {
        "id": "QFEFPuSflHew"
      },
      "source": [
        "* SVD를 사용한 협업 필터링"
      ]
    },
    {
      "cell_type": "code",
      "metadata": {
        "id": "H6HJ5bKOlHIb",
        "colab": {
          "base_uri": "https://localhost:8080/"
        },
        "outputId": "0926d765-8193-4b71-d957-37918cd6518c"
      },
      "source": [
        "model=SVD()\n",
        "cross_validate(model,data,measures=['rmse','mae'],cv=5,n_jobs=4,verbose=True)"
      ],
      "execution_count": 40,
      "outputs": [
        {
          "output_type": "stream",
          "name": "stdout",
          "text": [
            "Evaluating RMSE, MAE of algorithm SVD on 5 split(s).\n",
            "\n",
            "                  Fold 1  Fold 2  Fold 3  Fold 4  Fold 5  Mean    Std     \n",
            "RMSE (testset)    0.9372  0.9290  0.9390  0.9374  0.9416  0.9368  0.0042  \n",
            "MAE (testset)     0.7374  0.7301  0.7435  0.7358  0.7412  0.7376  0.0046  \n",
            "Fit time          10.97   14.04   14.00   11.79   7.78    11.72   2.31    \n",
            "Test time         0.59    0.63    0.41    0.29    0.17    0.42    0.17    \n"
          ]
        },
        {
          "output_type": "execute_result",
          "data": {
            "text/plain": [
              "{'fit_time': (10.974753618240356,\n",
              "  14.03977656364441,\n",
              "  14.003156661987305,\n",
              "  11.78525447845459,\n",
              "  7.775218486785889),\n",
              " 'test_mae': array([0.73744879, 0.73014263, 0.74346226, 0.73577718, 0.74120212]),\n",
              " 'test_rmse': array([0.9371979 , 0.92898809, 0.93899746, 0.93736929, 0.94161275]),\n",
              " 'test_time': (0.5947346687316895,\n",
              "  0.6294488906860352,\n",
              "  0.40744757652282715,\n",
              "  0.2943115234375,\n",
              "  0.1723332405090332)}"
            ]
          },
          "metadata": {},
          "execution_count": 40
        }
      ]
    },
    {
      "cell_type": "markdown",
      "metadata": {
        "id": "MqK8Xgeglkmj"
      },
      "source": [
        "* NMF를 사용한 협업 필터링"
      ]
    },
    {
      "cell_type": "code",
      "metadata": {
        "id": "zSwGKHEDkyue",
        "colab": {
          "base_uri": "https://localhost:8080/"
        },
        "outputId": "1c5842df-dca6-4ab0-b082-7fa5e581d3d4"
      },
      "source": [
        "model=NMF()\n",
        "cross_validate(model,data,measures=['rmse','mae'],cv=5,n_jobs=4,verbose=True)"
      ],
      "execution_count": 41,
      "outputs": [
        {
          "output_type": "stream",
          "name": "stdout",
          "text": [
            "Evaluating RMSE, MAE of algorithm NMF on 5 split(s).\n",
            "\n",
            "                  Fold 1  Fold 2  Fold 3  Fold 4  Fold 5  Mean    Std     \n",
            "RMSE (testset)    0.9580  0.9659  0.9698  0.9684  0.9558  0.9636  0.0056  \n",
            "MAE (testset)     0.7533  0.7583  0.7591  0.7627  0.7525  0.7572  0.0038  \n",
            "Fit time          14.72   17.77   17.67   14.74   9.81    14.94   2.89    \n",
            "Test time         0.66    0.50    0.40    0.26    0.16    0.39    0.18    \n"
          ]
        },
        {
          "output_type": "execute_result",
          "data": {
            "text/plain": [
              "{'fit_time': (14.723661422729492,\n",
              "  17.771509170532227,\n",
              "  17.66822624206543,\n",
              "  14.740811347961426,\n",
              "  9.811245203018188),\n",
              " 'test_mae': array([0.75328127, 0.75825159, 0.75913527, 0.76271247, 0.75252029]),\n",
              " 'test_rmse': array([0.95803697, 0.96585113, 0.96980299, 0.96843816, 0.95581697]),\n",
              " 'test_time': (0.6575400829315186,\n",
              "  0.5045182704925537,\n",
              "  0.3978579044342041,\n",
              "  0.25542140007019043,\n",
              "  0.15656280517578125)}"
            ]
          },
          "metadata": {},
          "execution_count": 41
        }
      ]
    },
    {
      "cell_type": "markdown",
      "metadata": {
        "id": "odXxXkX0mi_7"
      },
      "source": [
        "* SVD++를 사용한 협업 필터링"
      ]
    },
    {
      "cell_type": "code",
      "metadata": {
        "id": "Ck153w1Tlsxa",
        "colab": {
          "base_uri": "https://localhost:8080/"
        },
        "outputId": "9a714e2b-3208-4ac3-e15e-ab5148cf5c41"
      },
      "source": [
        "model=SVDpp()\n",
        "cross_validate(model,data,measures=['rmse','mae'],cv=5,n_jobs=4,verbose=True)"
      ],
      "execution_count": 42,
      "outputs": [
        {
          "output_type": "stream",
          "name": "stdout",
          "text": [
            "Evaluating RMSE, MAE of algorithm SVDpp on 5 split(s).\n",
            "\n",
            "                  Fold 1  Fold 2  Fold 3  Fold 4  Fold 5  Mean    Std     \n",
            "RMSE (testset)    0.9178  0.9237  0.9150  0.9234  0.9117  0.9183  0.0047  \n",
            "MAE (testset)     0.7197  0.7267  0.7170  0.7227  0.7172  0.7207  0.0037  \n",
            "Fit time          650.84  646.45  653.46  649.57  206.94  561.45  177.27  \n",
            "Test time         11.90   11.55   9.68    9.59    3.11    9.17    3.17    \n"
          ]
        },
        {
          "output_type": "execute_result",
          "data": {
            "text/plain": [
              "{'fit_time': (650.8376843929291,\n",
              "  646.4455416202545,\n",
              "  653.4601876735687,\n",
              "  649.5744187831879,\n",
              "  206.94036221504211),\n",
              " 'test_mae': array([0.71971226, 0.72674383, 0.71701363, 0.72270339, 0.71721192]),\n",
              " 'test_rmse': array([0.91779544, 0.92372553, 0.91500801, 0.92339714, 0.91165884]),\n",
              " 'test_time': (11.900418519973755,\n",
              "  11.554717063903809,\n",
              "  9.67935824394226,\n",
              "  9.586155414581299,\n",
              "  3.1052162647247314)}"
            ]
          },
          "metadata": {},
          "execution_count": 42
        }
      ]
    },
    {
      "cell_type": "markdown",
      "metadata": {
        "id": "hMNwOXpjqeWq"
      },
      "source": [
        "## 하이브리드(Hybrid)\n",
        "\n",
        "* 컨텐츠 기반 필터링과 협업 필터링을 조합한 방식\n",
        "* 많은 하이브리드 방식이 존재\n",
        "* 실습에서는 협업 필터링으로 임베딩을 학습하고 컨텐츠 기반 필터링으로 유사도 기반 추천을 수행하는 추천 엔진 개발"
      ]
    },
    {
      "cell_type": "code",
      "metadata": {
        "id": "9mDHmnwFmzwd"
      },
      "source": [
        "import numpy as np\n",
        "from sklearn.decomposition import randomized_svd,non_negative_factorization\n",
        "from surprise import Dataset"
      ],
      "execution_count": 67,
      "outputs": []
    },
    {
      "cell_type": "code",
      "metadata": {
        "id": "MtEuyQGGMmor"
      },
      "source": [
        "data=Dataset.load_builtin('ml-100k',prompt=False)\n",
        "raw_data=np.array(data.raw_ratings,dtype=int)\n",
        "raw_data[:,0]-=1\n",
        "raw_data[:,1]-=1"
      ],
      "execution_count": 68,
      "outputs": []
    },
    {
      "cell_type": "code",
      "metadata": {
        "id": "esDSrjm_NshD",
        "colab": {
          "base_uri": "https://localhost:8080/"
        },
        "outputId": "c4396e3a-1c40-4044-8eff-c1f316e5cd25"
      },
      "source": [
        "n_users=np.max(raw_data[:,0])\n",
        "n_movies=np.max(raw_data[:,1])\n",
        "shape=(n_users+1,n_movies+1)\n",
        "shape"
      ],
      "execution_count": 69,
      "outputs": [
        {
          "output_type": "execute_result",
          "data": {
            "text/plain": [
              "(943, 1682)"
            ]
          },
          "metadata": {},
          "execution_count": 69
        }
      ]
    },
    {
      "cell_type": "code",
      "metadata": {
        "id": "v6lc4h2sNY_7"
      },
      "source": [
        ""
      ],
      "execution_count": 69,
      "outputs": []
    },
    {
      "cell_type": "code",
      "metadata": {
        "id": "bZnx294OTntk",
        "colab": {
          "base_uri": "https://localhost:8080/"
        },
        "outputId": "f0811e93-fe73-4170-e756-acd2b41e54aa"
      },
      "source": [
        "adj_matrix=np.ndarray(shape,dtype=int)\n",
        "for user_id,movie_id,rating,time in raw_data:\n",
        "  adj_matrix[user_id][movie_id]=rating\n",
        "adj_matrix"
      ],
      "execution_count": 70,
      "outputs": [
        {
          "output_type": "execute_result",
          "data": {
            "text/plain": [
              "array([[5, 3, 4, ..., 0, 0, 0],\n",
              "       [4, 0, 0, ..., 0, 0, 0],\n",
              "       [0, 0, 0, ..., 0, 0, 0],\n",
              "       ...,\n",
              "       [5, 0, 0, ..., 0, 0, 0],\n",
              "       [0, 0, 0, ..., 0, 0, 0],\n",
              "       [0, 5, 0, ..., 0, 0, 0]])"
            ]
          },
          "metadata": {},
          "execution_count": 70
        }
      ]
    },
    {
      "cell_type": "markdown",
      "source": [
        "U =user, V= item ,S= tri value vector"
      ],
      "metadata": {
        "id": "kGme6O4v88vg"
      }
    },
    {
      "cell_type": "code",
      "metadata": {
        "id": "mpw7bmE-SVon",
        "colab": {
          "base_uri": "https://localhost:8080/"
        },
        "outputId": "b294e943-1845-47fe-d786-766d65d071ba"
      },
      "source": [
        "U,S,V=randomized_svd(adj_matrix,n_components=2)\n",
        "S=np.diag(S)"
      ],
      "execution_count": 71,
      "outputs": [
        {
          "output_type": "stream",
          "name": "stderr",
          "text": [
            "/usr/local/lib/python3.7/dist-packages/sklearn/utils/extmath.py:376: FutureWarning: If 'random_state' is not supplied, the current default is to use 0 as a fixed seed. This will change to  None in version 1.2 leading to non-deterministic results that better reflect nature of the randomized_svd solver. If you want to silence this warning, set 'random_state' to an integer seed or to None explicitly depending if you want your code to be deterministic or not.\n",
            "  FutureWarning,\n"
          ]
        }
      ]
    },
    {
      "cell_type": "code",
      "metadata": {
        "id": "sdnXxd6lODFy",
        "colab": {
          "base_uri": "https://localhost:8080/"
        },
        "outputId": "b89677d9-88e6-4351-f72d-48b0a76c0f8d"
      },
      "source": [
        "print(U.shape)\n",
        "print(S.shape)\n",
        "print(V.shape)"
      ],
      "execution_count": 72,
      "outputs": [
        {
          "output_type": "stream",
          "name": "stdout",
          "text": [
            "(943, 2)\n",
            "(2, 2)\n",
            "(2, 1682)\n"
          ]
        }
      ]
    },
    {
      "cell_type": "code",
      "metadata": {
        "id": "zBvnhmuhOxDx",
        "colab": {
          "base_uri": "https://localhost:8080/"
        },
        "outputId": "10b1ea99-c71e-4181-9f3f-3e5a8b6f7855"
      },
      "source": [
        "np.matmul(np.matmul(U,S),V)"
      ],
      "execution_count": 73,
      "outputs": [
        {
          "output_type": "execute_result",
          "data": {
            "text/plain": [
              "array([[ 3.91732663e+00,  1.47276644e+00,  7.98261988e-01, ...,\n",
              "         6.24907189e-04,  1.41100852e-02,  1.36545878e-02],\n",
              "       [ 1.85777226e+00,  3.96191175e-01,  5.05705740e-01, ...,\n",
              "         5.38862978e-03,  1.77237914e-03,  5.26968095e-04],\n",
              "       [ 8.94989517e-01,  1.71578497e-01,  2.51738682e-01, ...,\n",
              "         2.92094923e-03,  5.39937171e-04, -1.25733753e-04],\n",
              "       ...,\n",
              "       [ 9.92051955e-01,  2.10814957e-01,  2.70363365e-01, ...,\n",
              "         2.89019297e-03,  9.34221962e-04,  2.66612193e-04],\n",
              "       [ 1.30425401e+00,  5.27669941e-01,  2.50080165e-01, ...,\n",
              "        -4.20677765e-04,  5.30525683e-03,  5.28069948e-03],\n",
              "       [ 2.82999397e+00,  9.70812247e-01,  6.15871694e-01, ...,\n",
              "         2.02091492e-03,  8.67740813e-03,  8.03107892e-03]])"
            ]
          },
          "metadata": {},
          "execution_count": 73
        }
      ]
    },
    {
      "cell_type": "markdown",
      "metadata": {
        "id": "3pSBMfF7d74E"
      },
      "source": [
        "* 사용자 기반 추천\n",
        "* 나와 비슷한 취향을 가진 다른 사용자의 행동을 추천\n",
        "* 사용자 특징 벡터의 유사도 사용"
      ]
    },
    {
      "cell_type": "code",
      "metadata": {
        "id": "N6nYexy6cq9V",
        "colab": {
          "base_uri": "https://localhost:8080/"
        },
        "outputId": "235be995-c017-4da0-df9a-4596fea3f6df"
      },
      "source": [
        "my_id,my_vector=0,U[0]\n",
        "best_match,best_match_id,best_match_vector=-1,-1,[]\n",
        "\n",
        "for user_id,user_vector in enumerate(U):\n",
        "  if my_id !=user_id:\n",
        "    cos_similarity=compute_cos_similarity(my_vector,user_vector)\n",
        "    if cos_similarity > best_match:\n",
        "      best_match=cos_similarity\n",
        "      best_match_id=user_id\n",
        "      best_match_vector=user_vector\n",
        "\n",
        "  \n",
        "print('best Match: {}, Best Match ID : {}'.format(best_match,best_match_id))"
      ],
      "execution_count": 74,
      "outputs": [
        {
          "output_type": "stream",
          "name": "stdout",
          "text": [
            "best Match: 0.9999942295956324, Best Match ID : 235\n"
          ]
        }
      ]
    },
    {
      "cell_type": "code",
      "metadata": {
        "id": "wdISUAEIfoHi",
        "colab": {
          "base_uri": "https://localhost:8080/"
        },
        "outputId": "614ffeee-25a7-4166-edda-8927fa957752"
      },
      "source": [
        "recommend_list=[]\n",
        "for i, log in enumerate(zip(adj_matrix[my_id],adj_matrix[best_match_id])):\n",
        "  log1,log2=log\n",
        "  if log1<1. and log2 > 0.:\n",
        "    recommend_list.append(i)\n",
        "print(recommend_list)"
      ],
      "execution_count": 75,
      "outputs": [
        {
          "output_type": "stream",
          "name": "stdout",
          "text": [
            "[272, 273, 274, 281, 285, 288, 293, 297, 303, 306, 312, 317, 327, 332, 369, 410, 418, 419, 422, 426, 428, 431, 434, 442, 461, 475, 477, 482, 495, 503, 504, 505, 506, 509, 519, 520, 522, 525, 531, 545, 548, 590, 594, 595, 613, 631, 654, 658, 660, 672, 684, 685, 691, 695, 698, 704, 716, 728, 734, 749, 755, 863, 865, 933, 1012, 1038, 1101, 1327, 1400]\n"
          ]
        }
      ]
    },
    {
      "cell_type": "markdown",
      "metadata": {
        "id": "0nSD2izbhJix"
      },
      "source": [
        "* 항목 기반 추천\n",
        "* 내가 본 항목과 비슷한 항목을 추천\n",
        "* 항목 특징 벡터의 유사도 사용"
      ]
    },
    {
      "cell_type": "code",
      "metadata": {
        "id": "vCLxtkLdgM-s",
        "colab": {
          "base_uri": "https://localhost:8080/"
        },
        "outputId": "3c8646d0-5eb2-46ad-c7ed-d9eb42993175"
      },
      "source": [
        "my_id,my_vector=0,V.T[0]\n",
        "best_match,best_match_id,best_match_vector=-1,-1,[]\n",
        "\n",
        "for user_id,user_vector in enumerate(V.T):\n",
        "  if my_id !=user_id:\n",
        "    cos_similarity=compute_cos_similarity(my_vector,user_vector)\n",
        "    if cos_similarity > best_match:\n",
        "      best_match=cos_similarity\n",
        "      best_match_id=user_id\n",
        "      best_match_vector=user_vector\n",
        "\n",
        "  \n",
        "print('best Match: {}, Best Match ID : {}'.format(best_match,best_match_id))"
      ],
      "execution_count": 76,
      "outputs": [
        {
          "output_type": "stream",
          "name": "stdout",
          "text": [
            "best Match: 0.9999999951364144, Best Match ID : 1287\n"
          ]
        }
      ]
    },
    {
      "cell_type": "code",
      "metadata": {
        "id": "IZ49Abk7iBeU",
        "colab": {
          "base_uri": "https://localhost:8080/"
        },
        "outputId": "a0f6428a-9b43-4db4-b6b5-efdbdbc5ea91"
      },
      "source": [
        "recommend_list=[]\n",
        "for i, log in enumerate(adj_matrix):\n",
        "  if adj_matrix[i][my_id]>0.9:\n",
        "    recommend_list.append(i)\n",
        "print(recommend_list)"
      ],
      "execution_count": 77,
      "outputs": [
        {
          "output_type": "stream",
          "name": "stdout",
          "text": [
            "[0, 1, 4, 5, 9, 12, 14, 15, 16, 17, 19, 20, 22, 24, 25, 37, 40, 41, 42, 43, 44, 48, 53, 55, 56, 57, 58, 61, 62, 63, 64, 65, 66, 69, 71, 72, 74, 76, 78, 80, 81, 82, 83, 88, 91, 92, 93, 94, 95, 96, 98, 100, 101, 105, 107, 108, 116, 119, 120, 123, 124, 127, 129, 130, 133, 136, 137, 140, 143, 144, 147, 149, 150, 156, 157, 159, 161, 167, 173, 176, 177, 180, 181, 183, 188, 192, 193, 197, 198, 199, 200, 201, 202, 203, 208, 209, 212, 215, 221, 222, 229, 230, 231, 233, 234, 241, 242, 243, 245, 246, 247, 248, 249, 250, 251, 252, 253, 255, 261, 262, 264, 267, 270, 273, 274, 275, 276, 278, 279, 285, 286, 288, 289, 290, 291, 292, 293, 294, 295, 296, 297, 298, 300, 302, 304, 306, 307, 310, 311, 312, 313, 319, 321, 323, 324, 325, 326, 329, 330, 331, 335, 337, 338, 339, 342, 343, 344, 346, 347, 349, 356, 358, 359, 362, 364, 370, 373, 377, 378, 379, 380, 386, 387, 388, 389, 392, 393, 394, 395, 397, 398, 400, 401, 402, 405, 406, 410, 411, 415, 416, 418, 421, 423, 424, 428, 431, 433, 434, 437, 440, 444, 446, 449, 453, 454, 455, 456, 457, 458, 459, 462, 464, 466, 467, 469, 470, 471, 477, 478, 482, 483, 485, 486, 487, 489, 492, 493, 494, 496, 499, 502, 504, 507, 511, 513, 516, 517, 520, 522, 524, 525, 531, 532, 533, 534, 535, 536, 539, 540, 541, 544, 547, 548, 549, 551, 552, 553, 559, 560, 561, 566, 568, 575, 576, 578, 579, 581, 587, 591, 592, 596, 598, 601, 604, 605, 608, 609, 611, 612, 613, 617, 619, 620, 621, 623, 629, 631, 633, 634, 635, 636, 641, 642, 647, 648, 649, 652, 653, 654, 656, 657, 659, 660, 662, 663, 664, 668, 673, 675, 676, 677, 678, 679, 681, 683, 688, 689, 690, 691, 696, 697, 698, 700, 702, 704, 705, 707, 708, 709, 713, 714, 715, 720, 722, 725, 726, 729, 730, 732, 734, 737, 741, 743, 744, 745, 746, 747, 748, 750, 755, 756, 758, 760, 762, 763, 766, 767, 768, 769, 770, 772, 776, 778, 784, 785, 787, 788, 789, 791, 792, 793, 794, 795, 797, 799, 803, 804, 805, 806, 814, 816, 820, 821, 822, 825, 828, 829, 830, 834, 837, 838, 842, 846, 851, 853, 863, 864, 866, 867, 869, 871, 878, 879, 880, 881, 882, 884, 885, 886, 888, 889, 891, 892, 893, 894, 895, 896, 898, 900, 901, 902, 906, 909, 912, 915, 916, 917, 918, 920, 921, 922, 923, 926, 928, 929, 931, 932, 933, 934, 935, 937, 940]\n"
          ]
        }
      ]
    },
    {
      "cell_type": "markdown",
      "metadata": {
        "id": "7uAlUROxj2nA"
      },
      "source": [
        "* 비음수 행렬 분해를 사용한 하이브리드 추천"
      ]
    },
    {
      "cell_type": "code",
      "metadata": {
        "id": "Ou2UGuXMTY39",
        "colab": {
          "base_uri": "https://localhost:8080/"
        },
        "outputId": "fa91b0bd-04d9-4e56-d49b-1f757d13489e"
      },
      "source": [
        "adj_matrix"
      ],
      "execution_count": 78,
      "outputs": [
        {
          "output_type": "execute_result",
          "data": {
            "text/plain": [
              "array([[5, 3, 4, ..., 0, 0, 0],\n",
              "       [4, 0, 0, ..., 0, 0, 0],\n",
              "       [0, 0, 0, ..., 0, 0, 0],\n",
              "       ...,\n",
              "       [5, 0, 0, ..., 0, 0, 0],\n",
              "       [0, 0, 0, ..., 0, 0, 0],\n",
              "       [0, 5, 0, ..., 0, 0, 0]])"
            ]
          },
          "metadata": {},
          "execution_count": 78
        }
      ]
    },
    {
      "cell_type": "code",
      "metadata": {
        "id": "yThSdQxDjnsk",
        "colab": {
          "base_uri": "https://localhost:8080/"
        },
        "outputId": "9694b78f-f152-485b-c2ad-20d2b17199bf"
      },
      "source": [
        "A,B,iter=non_negative_factorization(adj_matrix,n_components=2)"
      ],
      "execution_count": 79,
      "outputs": [
        {
          "output_type": "stream",
          "name": "stderr",
          "text": [
            "/usr/local/lib/python3.7/dist-packages/sklearn/decomposition/_nmf.py:294: FutureWarning: The 'init' value, when 'init=None' and n_components is less than n_samples and n_features, will be changed from 'nndsvd' to 'nndsvda' in 1.1 (renaming of 0.26).\n",
            "  FutureWarning,\n"
          ]
        }
      ]
    },
    {
      "cell_type": "code",
      "metadata": {
        "id": "hqtcd6HmkOsA",
        "colab": {
          "base_uri": "https://localhost:8080/"
        },
        "outputId": "9474a2bf-883a-4274-ae11-7cfa56b53840"
      },
      "source": [
        "np.matmul(A,B)"
      ],
      "execution_count": 80,
      "outputs": [
        {
          "output_type": "execute_result",
          "data": {
            "text/plain": [
              "array([[3.71108858e+00, 1.48454102e+00, 7.39535363e-01, ...,\n",
              "        3.64490531e-03, 1.45506510e-02, 1.44110916e-02],\n",
              "       [2.11724416e+00, 2.37338725e-01, 5.51650703e-01, ...,\n",
              "        4.76092332e-03, 3.03585167e-05, 0.00000000e+00],\n",
              "       [9.85272360e-01, 1.10447010e-01, 2.56713988e-01, ...,\n",
              "        2.21552443e-03, 1.41275192e-05, 0.00000000e+00],\n",
              "       ...,\n",
              "       [1.04485667e+00, 1.17126289e-01, 2.72238757e-01, ...,\n",
              "        2.34950819e-03, 1.49818804e-05, 0.00000000e+00],\n",
              "       [1.45758857e+00, 5.42112787e-01, 2.99181695e-01, ...,\n",
              "        1.61177659e-03, 5.15921394e-03, 5.10771005e-03],\n",
              "       [2.44733103e+00, 9.41208708e-01, 4.95740038e-01, ...,\n",
              "        2.56992125e-03, 9.08287324e-03, 8.99389282e-03]])"
            ]
          },
          "metadata": {},
          "execution_count": 80
        }
      ]
    },
    {
      "cell_type": "markdown",
      "metadata": {
        "id": "6DGX9EtEop4i"
      },
      "source": [
        "* 사용자 기반 추천"
      ]
    },
    {
      "cell_type": "code",
      "metadata": {
        "id": "dndXY3Gvm7zs",
        "colab": {
          "base_uri": "https://localhost:8080/"
        },
        "outputId": "f43593e6-a9d3-4423-ad69-ac25e98c775c"
      },
      "source": [
        "my_id,my_vector=0,U[0] #suppose that My ID is the 0\n",
        "best_match,best_match_id,best_match_vector=-1,-1,[]\n",
        "\n",
        "for user_id,user_vector in enumerate(U):\n",
        "  if my_id !=user_id:\n",
        "    cos_similarity=compute_cos_similarity(my_vector,user_vector)\n",
        "    if cos_similarity > best_match:\n",
        "      best_match=cos_similarity\n",
        "      best_match_id=user_id\n",
        "      best_match_vector=user_vector\n",
        "\n",
        "  \n",
        "print('best Match: {}, Best Match ID : {}'.format(best_match,best_match_id))"
      ],
      "execution_count": 81,
      "outputs": [
        {
          "output_type": "stream",
          "name": "stdout",
          "text": [
            "best Match: 0.9999942295956324, Best Match ID : 235\n"
          ]
        }
      ]
    },
    {
      "cell_type": "code",
      "metadata": {
        "id": "njszNHE_m9MK",
        "colab": {
          "base_uri": "https://localhost:8080/"
        },
        "outputId": "09bb5bdb-2be3-44eb-c710-859ea1d74a5d"
      },
      "source": [
        "recommend_list = []\n",
        "for i, log in enumerate(zip(adj_matrix[my_id], adj_matrix[best_match_id])):\n",
        "  log1, log2 = log\n",
        "  if log1 < 1. and log2 > 0.:\n",
        "    recommend_list.append(i)\n",
        "print(recommend_list)"
      ],
      "execution_count": 82,
      "outputs": [
        {
          "output_type": "stream",
          "name": "stdout",
          "text": [
            "[272, 273, 274, 281, 285, 288, 293, 297, 303, 306, 312, 317, 327, 332, 369, 410, 418, 419, 422, 426, 428, 431, 434, 442, 461, 475, 477, 482, 495, 503, 504, 505, 506, 509, 519, 520, 522, 525, 531, 545, 548, 590, 594, 595, 613, 631, 654, 658, 660, 672, 684, 685, 691, 695, 698, 704, 716, 728, 734, 749, 755, 863, 865, 933, 1012, 1038, 1101, 1327, 1400]\n"
          ]
        }
      ]
    },
    {
      "cell_type": "markdown",
      "metadata": {
        "id": "F21eqO8dosUE"
      },
      "source": [
        "* 항목 기반 추천"
      ]
    },
    {
      "cell_type": "code",
      "metadata": {
        "id": "G8RZo0Mvom4X",
        "colab": {
          "base_uri": "https://localhost:8080/"
        },
        "outputId": "ffa789e9-b551-40f5-a1ed-7351525f118e"
      },
      "source": [
        "my_id,my_vector=0,V.T[0]\n",
        "best_match,best_match_id,best_match_vector=-1,-1,[]\n",
        "\n",
        "for user_id,user_vector in enumerate(V.T):\n",
        "  if my_id !=user_id:\n",
        "    cos_similarity=compute_cos_similarity(my_vector,user_vector)\n",
        "    if cos_similarity > best_match:\n",
        "      best_match=cos_similarity\n",
        "      best_match_id=user_id\n",
        "      best_match_vector=user_vector\n",
        "\n",
        "  \n",
        "print('best Match: {}, Best Match ID : {}'.format(best_match,best_match_id))"
      ],
      "execution_count": 83,
      "outputs": [
        {
          "output_type": "stream",
          "name": "stdout",
          "text": [
            "best Match: 0.9999999951364144, Best Match ID : 1287\n"
          ]
        }
      ]
    },
    {
      "cell_type": "code",
      "metadata": {
        "id": "G_ua-2Lcox8i",
        "colab": {
          "base_uri": "https://localhost:8080/"
        },
        "outputId": "b7c3677b-0c39-4486-d1d8-b71dfd43185a"
      },
      "source": [
        "recommend_list = []\n",
        "for i, user_vector in enumerate(adj_matrix):\n",
        "  if adj_matrix[i][my_id] > 0.9:\n",
        "    recommend_list.append(i)\n",
        "print(recommend_list)"
      ],
      "execution_count": 84,
      "outputs": [
        {
          "output_type": "stream",
          "name": "stdout",
          "text": [
            "[0, 1, 4, 5, 9, 12, 14, 15, 16, 17, 19, 20, 22, 24, 25, 37, 40, 41, 42, 43, 44, 48, 53, 55, 56, 57, 58, 61, 62, 63, 64, 65, 66, 69, 71, 72, 74, 76, 78, 80, 81, 82, 83, 88, 91, 92, 93, 94, 95, 96, 98, 100, 101, 105, 107, 108, 116, 119, 120, 123, 124, 127, 129, 130, 133, 136, 137, 140, 143, 144, 147, 149, 150, 156, 157, 159, 161, 167, 173, 176, 177, 180, 181, 183, 188, 192, 193, 197, 198, 199, 200, 201, 202, 203, 208, 209, 212, 215, 221, 222, 229, 230, 231, 233, 234, 241, 242, 243, 245, 246, 247, 248, 249, 250, 251, 252, 253, 255, 261, 262, 264, 267, 270, 273, 274, 275, 276, 278, 279, 285, 286, 288, 289, 290, 291, 292, 293, 294, 295, 296, 297, 298, 300, 302, 304, 306, 307, 310, 311, 312, 313, 319, 321, 323, 324, 325, 326, 329, 330, 331, 335, 337, 338, 339, 342, 343, 344, 346, 347, 349, 356, 358, 359, 362, 364, 370, 373, 377, 378, 379, 380, 386, 387, 388, 389, 392, 393, 394, 395, 397, 398, 400, 401, 402, 405, 406, 410, 411, 415, 416, 418, 421, 423, 424, 428, 431, 433, 434, 437, 440, 444, 446, 449, 453, 454, 455, 456, 457, 458, 459, 462, 464, 466, 467, 469, 470, 471, 477, 478, 482, 483, 485, 486, 487, 489, 492, 493, 494, 496, 499, 502, 504, 507, 511, 513, 516, 517, 520, 522, 524, 525, 531, 532, 533, 534, 535, 536, 539, 540, 541, 544, 547, 548, 549, 551, 552, 553, 559, 560, 561, 566, 568, 575, 576, 578, 579, 581, 587, 591, 592, 596, 598, 601, 604, 605, 608, 609, 611, 612, 613, 617, 619, 620, 621, 623, 629, 631, 633, 634, 635, 636, 641, 642, 647, 648, 649, 652, 653, 654, 656, 657, 659, 660, 662, 663, 664, 668, 673, 675, 676, 677, 678, 679, 681, 683, 688, 689, 690, 691, 696, 697, 698, 700, 702, 704, 705, 707, 708, 709, 713, 714, 715, 720, 722, 725, 726, 729, 730, 732, 734, 737, 741, 743, 744, 745, 746, 747, 748, 750, 755, 756, 758, 760, 762, 763, 766, 767, 768, 769, 770, 772, 776, 778, 784, 785, 787, 788, 789, 791, 792, 793, 794, 795, 797, 799, 803, 804, 805, 806, 814, 816, 820, 821, 822, 825, 828, 829, 830, 834, 837, 838, 842, 846, 851, 853, 863, 864, 866, 867, 869, 871, 878, 879, 880, 881, 882, 884, 885, 886, 888, 889, 891, 892, 893, 894, 895, 896, 898, 900, 901, 902, 906, 909, 912, 915, 916, 917, 918, 920, 921, 922, 923, 926, 928, 929, 931, 932, 933, 934, 935, 937, 940]\n"
          ]
        }
      ]
    },
    {
      "cell_type": "code",
      "source": [
        ""
      ],
      "metadata": {
        "id": "VsZAGOiq_HLQ"
      },
      "execution_count": 84,
      "outputs": []
    }
  ]
}